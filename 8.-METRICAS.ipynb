{
 "cells": [
  {
   "cell_type": "markdown",
   "metadata": {},
   "source": [
    "# 8- MÉTRICAS"
   ]
  },
  {
   "cell_type": "markdown",
   "metadata": {},
   "source": [
    " La rápida expansión de NILM y el desarrollo de diferentes algoritmos, han hecho que sea esencial proporcionar una evaluación de rendimiento mediante el uso de métricas de desempeño. Las métricas de evaluación, comparan los resultados de la desagregaciónn (predicciones) de los modelos entrenados con los datos del set de validación (mediciones reales de cada proceso). NILMTK cuenta con el cálculo de métricas de evaluación mediante el uso del MeterGroup para la validación de los resultados mediante el set de validación \n",
    " Vamos ahora analizar en nuestro dataset diferentes metricas como son FEAC,F1, EAE ,MNEAP y RMSE  que  resumimos a continuacion en el siguinte cuadro:"
   ]
  },
  {
   "cell_type": "markdown",
   "metadata": {},
   "source": [
    "![metricas](metricas.jpg)"
   ]
  },
  {
   "cell_type": "markdown",
   "metadata": {},
   "source": [
    "En primer lugar cargamos las ibrerías y realizamos otros ajustes:"
   ]
  },
  {
   "cell_type": "code",
   "execution_count": 1,
   "metadata": {},
   "outputs": [],
   "source": [
    "%matplotlib inline\n",
    "import pandas as pd\n",
    "import numpy as np\n",
    "import matplotlib.pyplot as plt\n",
    "from matplotlib import rcParams\n",
    "import warnings\n",
    "warnings. filterwarnings(\"ignore\")\n",
    "plt.style.use('bmh')\n",
    "\n",
    "from nilmtk import TimeFrame, MeterGroup, HDFDataStore, DataSet\n",
    "from nilmtk.metrics import fraction_energy_assigned_correctly, mean_normalized_error_power\n",
    "from nilmtk.metrics import rms_error_power, f1_score, error_in_assigned_energy\n",
    "\n",
    "data_dir='./data/'"
   ]
  },
  {
   "cell_type": "markdown",
   "metadata": {},
   "source": [
    "### Métricas individuales del modelo"
   ]
  },
  {
   "cell_type": "code",
   "execution_count": 2,
   "metadata": {},
   "outputs": [],
   "source": [
    "#Librerías\n",
    "from nilmtk.metrics import f1_score\n",
    "from nilmtk.metrics import error_in_assigned_energy\n",
    "from nilmtk.metrics import mean_normalized_error_power\n",
    "from nilmtk.metrics import rms_error_power\n",
    "from nilmtk.metrics import fraction_energy_assigned_correctly"
   ]
  },
  {
   "cell_type": "code",
   "execution_count": 3,
   "metadata": {},
   "outputs": [
    {
     "name": "stdout",
     "output_type": "stream",
     "text": [
      "Medidor de cabecera para desagregación:\n",
      "ElecMeter(instance=1, building=1, dataset='DSUAL', site_meter, appliances=[])\n",
      "\n",
      "Dispositivos para validación de entrenamiento:\n",
      "MeterGroup(meters=\n",
      "  ElecMeter(instance=2, building=1, dataset='DSUAL', appliances=[Appliance(type='electric furnace', instance=1)])\n",
      "  ElecMeter(instance=3, building=1, dataset='DSUAL', appliances=[Appliance(type='microwave', instance=1)])\n",
      "  ElecMeter(instance=4, building=1, dataset='DSUAL', appliances=[Appliance(type='television', instance=1)])\n",
      "  ElecMeter(instance=5, building=1, dataset='DSUAL', appliances=[Appliance(type='kettle', instance=1)])\n",
      "  ElecMeter(instance=6, building=1, dataset='DSUAL', appliances=[Appliance(type='vacuum cleaner', instance=1)])\n",
      "  ElecMeter(instance=7, building=1, dataset='DSUAL', appliances=[Appliance(type='electric space heater', instance=1)])\n",
      "  ElecMeter(instance=8, building=1, dataset='DSUAL', appliances=[Appliance(type='electric shower heater', instance=1)])\n",
      "  ElecMeter(instance=9, building=1, dataset='DSUAL', appliances=[Appliance(type='fan', instance=1)])\n",
      "  ElecMeter(instance=10, building=1, dataset='DSUAL', appliances=[Appliance(type='fridge', instance=1)])\n",
      "  ElecMeter(instance=11, building=1, dataset='DSUAL', appliances=[Appliance(type='freezer', instance=1)])\n",
      ")\n"
     ]
    },
    {
     "ename": "IndexError",
     "evalue": "index out of bounds",
     "output_type": "error",
     "traceback": [
      "\u001b[1;31m---------------------------------------------------------------------------\u001b[0m",
      "\u001b[1;31mKeyError\u001b[0m                                  Traceback (most recent call last)",
      "\u001b[1;32mc:\\Users\\carlo\\anaconda3\\envs\\nilmtk-env\\lib\\site-packages\\pandas\\core\\indexes\\base.py\u001b[0m in \u001b[0;36mget_value\u001b[1;34m(self, series, key)\u001b[0m\n\u001b[0;32m   4729\u001b[0m         \u001b[1;32mtry\u001b[0m\u001b[1;33m:\u001b[0m\u001b[1;33m\u001b[0m\u001b[1;33m\u001b[0m\u001b[0m\n\u001b[1;32m-> 4730\u001b[1;33m             \u001b[1;32mreturn\u001b[0m \u001b[0mself\u001b[0m\u001b[1;33m.\u001b[0m\u001b[0m_engine\u001b[0m\u001b[1;33m.\u001b[0m\u001b[0mget_value\u001b[0m\u001b[1;33m(\u001b[0m\u001b[0ms\u001b[0m\u001b[1;33m,\u001b[0m \u001b[0mk\u001b[0m\u001b[1;33m,\u001b[0m \u001b[0mtz\u001b[0m\u001b[1;33m=\u001b[0m\u001b[0mgetattr\u001b[0m\u001b[1;33m(\u001b[0m\u001b[0mseries\u001b[0m\u001b[1;33m.\u001b[0m\u001b[0mdtype\u001b[0m\u001b[1;33m,\u001b[0m \u001b[1;34m\"tz\"\u001b[0m\u001b[1;33m,\u001b[0m \u001b[1;32mNone\u001b[0m\u001b[1;33m)\u001b[0m\u001b[1;33m)\u001b[0m\u001b[1;33m\u001b[0m\u001b[1;33m\u001b[0m\u001b[0m\n\u001b[0m\u001b[0;32m   4731\u001b[0m         \u001b[1;32mexcept\u001b[0m \u001b[0mKeyError\u001b[0m \u001b[1;32mas\u001b[0m \u001b[0me1\u001b[0m\u001b[1;33m:\u001b[0m\u001b[1;33m\u001b[0m\u001b[1;33m\u001b[0m\u001b[0m\n",
      "\u001b[1;32mpandas/_libs/index.pyx\u001b[0m in \u001b[0;36mpandas._libs.index.IndexEngine.get_value\u001b[1;34m()\u001b[0m\n",
      "\u001b[1;32mpandas/_libs/index.pyx\u001b[0m in \u001b[0;36mpandas._libs.index.IndexEngine.get_value\u001b[1;34m()\u001b[0m\n",
      "\u001b[1;32mpandas/_libs/index.pyx\u001b[0m in \u001b[0;36mpandas._libs.index.IndexEngine.get_loc\u001b[1;34m()\u001b[0m\n",
      "\u001b[1;32mpandas/_libs/hashtable_class_helper.pxi\u001b[0m in \u001b[0;36mpandas._libs.hashtable.PyObjectHashTable.get_item\u001b[1;34m()\u001b[0m\n",
      "\u001b[1;32mpandas/_libs/hashtable_class_helper.pxi\u001b[0m in \u001b[0;36mpandas._libs.hashtable.PyObjectHashTable.get_item\u001b[1;34m()\u001b[0m\n",
      "\u001b[1;31mKeyError\u001b[0m: 0",
      "\nDuring handling of the above exception, another exception occurred:\n",
      "\u001b[1;31mIndexError\u001b[0m                                Traceback (most recent call last)",
      "\u001b[1;32m<ipython-input-3-a0a72dfb75e4>\u001b[0m in \u001b[0;36m<module>\u001b[1;34m()\u001b[0m\n\u001b[0;32m     78\u001b[0m \u001b[0mEAE\u001b[0m \u001b[1;33m=\u001b[0m \u001b[0merror_in_assigned_energy\u001b[0m\u001b[1;33m(\u001b[0m\u001b[0mpredictions\u001b[0m\u001b[1;33m,\u001b[0m \u001b[0mvalid_Devices\u001b[0m\u001b[1;33m)\u001b[0m\u001b[1;33m\u001b[0m\u001b[1;33m\u001b[0m\u001b[0m\n\u001b[0;32m     79\u001b[0m \u001b[1;33m\u001b[0m\u001b[0m\n\u001b[1;32m---> 80\u001b[1;33m \u001b[1;32mfor\u001b[0m \u001b[0mx\u001b[0m \u001b[1;32min\u001b[0m \u001b[0mrange\u001b[0m\u001b[1;33m(\u001b[0m\u001b[0mlen\u001b[0m\u001b[1;33m(\u001b[0m\u001b[0mEAE\u001b[0m\u001b[1;33m)\u001b[0m\u001b[1;33m)\u001b[0m\u001b[1;33m:\u001b[0m \u001b[0me\u001b[0m\u001b[1;33m.\u001b[0m\u001b[0mappend\u001b[0m\u001b[1;33m(\u001b[0m\u001b[0mEAE\u001b[0m\u001b[1;33m.\u001b[0m\u001b[0miloc\u001b[0m\u001b[1;33m[\u001b[0m\u001b[0mx\u001b[0m\u001b[1;33m]\u001b[0m\u001b[1;33m[\u001b[0m\u001b[1;36m0\u001b[0m\u001b[1;33m]\u001b[0m\u001b[1;33m)\u001b[0m\u001b[1;33m\u001b[0m\u001b[1;33m\u001b[0m\u001b[0m\n\u001b[0m\u001b[0;32m     81\u001b[0m \u001b[0meae\u001b[0m\u001b[1;33m[\u001b[0m\u001b[1;34m'EAE'\u001b[0m\u001b[1;33m]\u001b[0m \u001b[1;33m=\u001b[0m \u001b[0me\u001b[0m\u001b[1;33m\u001b[0m\u001b[1;33m\u001b[0m\u001b[0m\n\u001b[0;32m     82\u001b[0m \u001b[1;31m#da error esta medida AttributeError: 'tuple' object has no attribute 'instance'\u001b[0m\u001b[1;33m\u001b[0m\u001b[1;33m\u001b[0m\u001b[1;33m\u001b[0m\u001b[0m\n",
      "\u001b[1;32mc:\\Users\\carlo\\anaconda3\\envs\\nilmtk-env\\lib\\site-packages\\pandas\\core\\series.py\u001b[0m in \u001b[0;36m__getitem__\u001b[1;34m(self, key)\u001b[0m\n\u001b[0;32m   1069\u001b[0m         \u001b[0mkey\u001b[0m \u001b[1;33m=\u001b[0m \u001b[0mcom\u001b[0m\u001b[1;33m.\u001b[0m\u001b[0mapply_if_callable\u001b[0m\u001b[1;33m(\u001b[0m\u001b[0mkey\u001b[0m\u001b[1;33m,\u001b[0m \u001b[0mself\u001b[0m\u001b[1;33m)\u001b[0m\u001b[1;33m\u001b[0m\u001b[1;33m\u001b[0m\u001b[0m\n\u001b[0;32m   1070\u001b[0m         \u001b[1;32mtry\u001b[0m\u001b[1;33m:\u001b[0m\u001b[1;33m\u001b[0m\u001b[1;33m\u001b[0m\u001b[0m\n\u001b[1;32m-> 1071\u001b[1;33m             \u001b[0mresult\u001b[0m \u001b[1;33m=\u001b[0m \u001b[0mself\u001b[0m\u001b[1;33m.\u001b[0m\u001b[0mindex\u001b[0m\u001b[1;33m.\u001b[0m\u001b[0mget_value\u001b[0m\u001b[1;33m(\u001b[0m\u001b[0mself\u001b[0m\u001b[1;33m,\u001b[0m \u001b[0mkey\u001b[0m\u001b[1;33m)\u001b[0m\u001b[1;33m\u001b[0m\u001b[1;33m\u001b[0m\u001b[0m\n\u001b[0m\u001b[0;32m   1072\u001b[0m \u001b[1;33m\u001b[0m\u001b[0m\n\u001b[0;32m   1073\u001b[0m             \u001b[1;32mif\u001b[0m \u001b[1;32mnot\u001b[0m \u001b[0mis_scalar\u001b[0m\u001b[1;33m(\u001b[0m\u001b[0mresult\u001b[0m\u001b[1;33m)\u001b[0m\u001b[1;33m:\u001b[0m\u001b[1;33m\u001b[0m\u001b[1;33m\u001b[0m\u001b[0m\n",
      "\u001b[1;32mc:\\Users\\carlo\\anaconda3\\envs\\nilmtk-env\\lib\\site-packages\\pandas\\core\\indexes\\base.py\u001b[0m in \u001b[0;36mget_value\u001b[1;34m(self, series, key)\u001b[0m\n\u001b[0;32m   4734\u001b[0m \u001b[1;33m\u001b[0m\u001b[0m\n\u001b[0;32m   4735\u001b[0m             \u001b[1;32mtry\u001b[0m\u001b[1;33m:\u001b[0m\u001b[1;33m\u001b[0m\u001b[1;33m\u001b[0m\u001b[0m\n\u001b[1;32m-> 4736\u001b[1;33m                 \u001b[1;32mreturn\u001b[0m \u001b[0mlibindex\u001b[0m\u001b[1;33m.\u001b[0m\u001b[0mget_value_box\u001b[0m\u001b[1;33m(\u001b[0m\u001b[0ms\u001b[0m\u001b[1;33m,\u001b[0m \u001b[0mkey\u001b[0m\u001b[1;33m)\u001b[0m\u001b[1;33m\u001b[0m\u001b[1;33m\u001b[0m\u001b[0m\n\u001b[0m\u001b[0;32m   4737\u001b[0m             \u001b[1;32mexcept\u001b[0m \u001b[0mIndexError\u001b[0m\u001b[1;33m:\u001b[0m\u001b[1;33m\u001b[0m\u001b[1;33m\u001b[0m\u001b[0m\n\u001b[0;32m   4738\u001b[0m                 \u001b[1;32mraise\u001b[0m\u001b[1;33m\u001b[0m\u001b[1;33m\u001b[0m\u001b[0m\n",
      "\u001b[1;32mpandas/_libs/index.pyx\u001b[0m in \u001b[0;36mpandas._libs.index.get_value_box\u001b[1;34m()\u001b[0m\n",
      "\u001b[1;32mpandas/_libs/index.pyx\u001b[0m in \u001b[0;36mpandas._libs.index.get_value_at\u001b[1;34m()\u001b[0m\n",
      "\u001b[1;32mpandas/_libs/util.pxd\u001b[0m in \u001b[0;36mpandas._libs.util.get_value_at\u001b[1;34m()\u001b[0m\n",
      "\u001b[1;32mpandas/_libs/util.pxd\u001b[0m in \u001b[0;36mpandas._libs.util.validate_indexer\u001b[1;34m()\u001b[0m\n",
      "\u001b[1;31mIndexError\u001b[0m: index out of bounds"
     ]
    }
   ],
   "source": [
    "\n",
    "\n",
    "labels = pd.DataFrame({'Instances': list(range(1,12)),\n",
    "                       'Meters': ['Main', 'Electric furnace', 'Microwave','Television','Kettle','Vacuum cleaner','Electric space heater','Electric shower heater','Fan','Fridge','Freezer']})\n",
    "\n",
    "\n",
    "\n",
    " \n",
    "\n",
    "#Set para validación\n",
    "valid = DataSet('dsual.h5')\n",
    "valid.set_window(start=\"2022-12-16 12:18:00\", end=\"2022-12-16 12:20:00\")\n",
    "valid_elec = valid.buildings[1].elec\n",
    "\n",
    "print('Medidor de cabecera para desagregación:')\n",
    "valid_Main = valid_elec.mains()\n",
    "print(valid_Main)\n",
    "\n",
    "print('\\nDispositivos para validación de entrenamiento:')\n",
    "valid_Devices = valid_elec.select(instance=[2,3,4,5,6,7,8,9,10,11])\n",
    "print(valid_Devices)\n",
    "\n",
    "\n",
    "\n",
    "\n",
    "#Datos de Dispositivos: predicción\n",
    "# Se carga los resultados del mejor modelo\n",
    "#dataset=DataSet(data_dir+'NILM/Results/CO_30s_first_pred.h5')\n",
    "#predictions=dataset.buildings[1].elec.submeters()   \n",
    "\n",
    "\n",
    "\n",
    "\n",
    "\n",
    "index = list(labels['Meters'][1:11])\n",
    "met = []\n",
    "e = []\n",
    "#Datos de Dispositivos: predicción\n",
    "#dataset=DataSet(data_dir+'NILM/Results/FHMM_30s_first_pred.h5')\n",
    "#\tfan\tfreezer\ttelevision\tvacuum cleaner\tboiler\n",
    "#F1\t0.550\t0.493\t0.824\t0.697\t0.756     <--el peor\n",
    "#EAE\t0.000\t0.000\t0.000\t0.000\t0.000\n",
    "#MNEAP\t0.610\t1.105\t1.163\t0.486\t0.636\n",
    "#RMSE\t22.118\t40.123\t28.247\t394.057\t920.526 <--malo para el hervidor\n",
    "\n",
    "\n",
    "dataset=DataSet(data_dir+'NILM/Results/CO_10s_mean_pred.h5')\n",
    "#fan\tfreezer\ttelevision\tvacuum cleaner\tboiler\n",
    "#F1\t0.679\t0.749\t0.842\t0.989\t0.996\n",
    "#EAE\t0.000\t0.000\t0.000\t0.000\t0.000\n",
    "#MNEAP\t0.660\t1.815\t0.802\t0.029\t0.022\n",
    "#RMSE\t20.600\t62.253\t24.520\t27.240\t32.839\n",
    "\n",
    "\n",
    "#dataset=DataSet(data_dir+'NILM/Results/CO_30s_first_pred.h5')\n",
    "#\tfan\tfreezer\ttelevision\tvacuum cleaner\tboiler\n",
    "#F1\t0.639\t0.701\t0.747\t0.974\t0.993\n",
    "#EAE\t0.000\t0.000\t0.000\t0.000\t0.000\n",
    "#MNEAP\t0.714\t1.075\t0.842\t0.088\t0.029\n",
    "#RMSE\t23.484\t39.369\t24.698\t128.205\t99.968\n",
    "\n",
    "\n",
    "#dataset=DataSet(data_dir+'NILM/Results/FHMM_60s_mean_pred.h5')\n",
    "#\tfan\tfreezer\ttelevision\tvacuum cleaner\tboiler\n",
    "#F1\t0.538\t0.377\t0.737\t0.682\t0.763\n",
    "#EAE\t0.000\t0.000\t0.000\t0.000\t0.000\n",
    "#MNEAP\t0.546\t1.276\t1.244\t0.472\t0.641\n",
    "#RMSE\t20.377\t43.248\t28.842\t381.361\t920.050\n",
    "\n",
    "\n",
    "predictions=dataset.buildings[1].elec.submeters()      \n",
    "\n",
    "#Metricas\n",
    "f1 = {}; eae = {}; feac = {}; mneap = {}; rmse = {};\n",
    "\n",
    "f1['F1'] = f1_score(predictions, valid_Devices)\n",
    "\n",
    "EAE = error_in_assigned_energy(predictions, valid_Devices)\n",
    "\n",
    "for x in range(len(EAE)): e.append(EAE.iloc[x][0])\n",
    "eae['EAE'] = e\n",
    "#da error esta medida AttributeError: 'tuple' object has no attribute 'instance'\n",
    "#feac['FEAC'] = np.ones(6)*(fraction_energy_assigned_correctly(predictions, valid_Devices))\n",
    "#feac['FEAC'] = np.ones(6)*(fraction_energy_assigned_correctly(predictions, valid_Devices))\n",
    "mneap['MNEAP'] = mean_normalized_error_power(predictions, valid_Devices)\n",
    "rmse['RMSE'] = rms_error_power(predictions, valid_Devices)\n",
    "met.append(pd.concat([pd.DataFrame(feac, index=valid_Devices.instance()),\n",
    "                      pd.DataFrame(f1),\n",
    "                      pd.DataFrame(eae, index=valid_Devices.instance()),\n",
    "                      pd.DataFrame(mneap),\n",
    "                      pd.DataFrame(rmse)],\n",
    "                     axis=1).set_index(pd.Index(index)))\n",
    "\n",
    "dataset.store.close()       \n",
    "print('\\n\\nDone!')\n",
    "metrics=met[0].transpose().round(3)\n",
    "metrics"
   ]
  },
  {
   "cell_type": "markdown",
   "metadata": {},
   "source": [
    "Carga de datos de predicciones y GT en memoria"
   ]
  },
  {
   "cell_type": "code",
   "execution_count": null,
   "metadata": {},
   "outputs": [],
   "source": [
    "gt=valid_elec.dataframe_of_meters(ac_type='active', sample_period=30, resample_kwargs={'how':'first'})\n",
    "\n",
    "\n",
    "labels = pd.DataFrame({'Instances': list(range(1,12)),\n",
    "                       'Meters': ['Main', 'Electric furnace', 'Microwave','Television','Kettle','Vacuum cleaner','Electric space heater','Electric shower heater','Fan','Fridge','Freezer']})\n",
    "\n",
    "\n",
    "\n",
    "Meters={}\n",
    "for x in range(len(labels)): Meters[valid_elec[x+1]]=labels['Meters'][x]\n",
    "    \n",
    "\n",
    "    \n",
    "    \n",
    "#resultados de predicción modelo CO 30s\n",
    "#CO_30s_first=DataSet(data_dir+'NILM/Results/CO_30s_first_pred.h5')\n",
    "CO_30s_first=DataSet(data_dir+'NILM/Results/CO_10s_mean_pred.h5')\n",
    "elec_CO_30s_first=CO_30s_first.buildings[1].elec\n",
    "\n",
    "#resultados de predicción modelo FHMM 30s\n",
    "#FHMM_30s_first=DataSet(data_dir+'NILM/Results/FHMM_30s_first_pred.h5')\n",
    "FHMM_30s_first=DataSet(data_dir+'NILM/Results/FHMM_10s_mean_pred.h5')\n",
    "elec_FHMM_30s_first= FHMM_30s_first.buildings[1].elec    \n",
    "    \n",
    "    \n",
    "\n",
    "gt.columns=list(Meters.values())\n",
    "pred_CO=elec_CO_30s_first.dataframe_of_meters(ac_type='active')\n",
    "\n",
    "pred_CO.columns=[list(Meters.values())[0]]+list(Meters.values())[1:12]\n",
    "\n",
    "pred_FHMM=elec_FHMM_30s_first.dataframe_of_meters(ac_type='active')\n",
    "\n",
    "pred_FHMM.columns=[list(Meters.values())[0]]+list(Meters.values())[1:12]"
   ]
  },
  {
   "cell_type": "markdown",
   "metadata": {},
   "source": [
    "### Análisis particular del cálculo de cada métrica\n",
    "\n",
    "Metrica FEAC ( da problema con AttributeError: 'tuple' object has no attribute 'instance')"
   ]
  },
  {
   "cell_type": "code",
   "execution_count": null,
   "metadata": {},
   "outputs": [],
   "source": [
    "#Carga de datos de predicciones y GT en memoria\n",
    "#gt=valid_elec.dataframe_of_meters(ac_type='active', sample_period=60, resample_kwargs={'how':'first'})\n",
    "#gt.columns=list(Meters.values())"
   ]
  },
  {
   "cell_type": "code",
   "execution_count": null,
   "metadata": {},
   "outputs": [],
   "source": [
    "#predictions_Devices=elec_CO_60s_first.submeters()\n",
    "\n",
    "#frac_1 = valid_Devices.fraction_per_meter()\n",
    "#frac_2 = predictions_Devices.fraction_per_meter()\n",
    "#fig, (ax1, ax2) = plt.subplots(1, 2 ,gridspec_kw={'hspace': 0.1, 'wspace': 0.1})\n",
    "\n",
    "#frac_1.plot(autopct=lambda p:'{:.0f}%'.format(p), kind='pie',labels=list(Meters.values())[1:6], figsize=(8,8), ax=ax1,   colors=['tab:blue','tab:orange','tab:green','tab:olive','tab:purple','tab:cyan'])\n",
    "#frac_2.plot(autopct=lambda p:'{:.0f}%'.format(p), kind='pie',  labels=list(Meters.values())[1:6], figsize=(8,8), ax=ax2,  colors=['tab:blue','tab:orange','tab:green','tab:olive','tab:purple','tab:cyan']) \n",
    "\n",
    "#ax1.set(ylabel=\"\")\n",
    "#ax1.set(xlabel=\"GT\")\n",
    "#ax2.set(ylabel=\"\")\n",
    "#ax2.set(xlabel=\"Predictions\")\n",
    "#plt.savefig('./data/images/5.4_FEAC_CO_60s.svg', bbox_inches='tight', transparent=True)\n",
    "#pass"
   ]
  },
  {
   "cell_type": "markdown",
   "metadata": {},
   "source": [
    "## Métrica F1"
   ]
  },
  {
   "cell_type": "markdown",
   "metadata": {},
   "source": [
    "Esta métrica mide la precisión o asertividad del modelo entrenado mediante el cálculo de la media armónica utilizando las métricas Precision y Recall. Estas métricas son calculadas internamente por NILMTK mediante la matriz de confusión, vease la ecuación de la figura siguiente."
   ]
  },
  {
   "cell_type": "markdown",
   "metadata": {},
   "source": [
    "![metricas](metricas.jpg)"
   ]
  },
  {
   "cell_type": "markdown",
   "metadata": {},
   "source": [
    "Precision se entiende como la fracción de cortes de tiempo en los que se predijo correctamente que un proceso estaba activo, pero realmente se encontraba apagado. Por lo contrario, Recall hace referencia a la fracción de cortes de tiempo en los que se predijo correctamente que el dispositivo estaba encendido y realmente se encontraba encendido ."
   ]
  },
  {
   "cell_type": "code",
   "execution_count": null,
   "metadata": {},
   "outputs": [
    {
     "ename": "NameError",
     "evalue": "name 'metrics' is not defined",
     "output_type": "error",
     "traceback": [
      "\u001b[1;31m---------------------------------------------------------------------------\u001b[0m",
      "\u001b[1;31mNameError\u001b[0m                                 Traceback (most recent call last)",
      "\u001b[1;32m<ipython-input-11-afb31c16dc2d>\u001b[0m in \u001b[0;36m<module>\u001b[1;34m()\u001b[0m\n\u001b[1;32m----> 1\u001b[1;33m \u001b[0mpd\u001b[0m\u001b[1;33m.\u001b[0m\u001b[0mDataFrame\u001b[0m\u001b[1;33m(\u001b[0m\u001b[0mmetrics\u001b[0m\u001b[1;33m.\u001b[0m\u001b[0mloc\u001b[0m\u001b[1;33m[\u001b[0m\u001b[1;34m'F1'\u001b[0m\u001b[1;33m]\u001b[0m\u001b[1;33m)\u001b[0m\u001b[1;33m.\u001b[0m\u001b[0mtranspose\u001b[0m\u001b[1;33m(\u001b[0m\u001b[1;33m)\u001b[0m\u001b[1;33m*\u001b[0m\u001b[1;36m100\u001b[0m\u001b[1;33m\u001b[0m\u001b[1;33m\u001b[0m\u001b[0m\n\u001b[0m",
      "\u001b[1;31mNameError\u001b[0m: name 'metrics' is not defined"
     ]
    }
   ],
   "source": [
    "pd.DataFrame(metrics.loc['F1']).transpose()*100"
   ]
  },
  {
   "cell_type": "code",
   "execution_count": null,
   "metadata": {},
   "outputs": [
    {
     "data": {
      "image/png": "[encoded data removed]",
      "text/plain": [
       "<Figure size 720x288 with 1 Axes>"
      ]
     },
     "metadata": {
      "needs_background": "light"
     },
     "output_type": "display_data"
    }
   ],
   "source": [
    "rcParams['figure.figsize'] = (10, 4)\n",
    "\n",
    "t0 = '2022-12-16 12:13:00+01:00'  #tiempo inicial\n",
    "t1 = '2022-12-16 12:24:00+01:00' #tiempo final\n",
    "\n",
    "\n",
    "fig, ax1 = plt.subplots();\n",
    "ax1=gt['Electric furnace'].plot(lw=4, c='tab:orange')\n",
    "pred_CO['Electric furnace'].plot(ax=ax1, c='darkred', lw=1.5, ls='--')\n",
    "ax1.legend(labels=['Electric furnace','Pred_CO'], fontsize=9, loc='upper left', ncol=1)\n",
    "ax1.set_ylim(-10,250)\n",
    "ax1.set_xlim(t0,t1)\n",
    "ax1.minorticks_off()\n",
    "ax1.set_xticklabels(labels=['10:00','10:10','10:20','10:30','10:40','10:50','11:00','11:15'] , horizontalalignment ='right')  \n",
    "\n",
    "ax1.set_ylabel('Power (W)')\n",
    "\n",
    "#ax1.annotate('TP', xy=(250, 188), xycoords='figure points', xytext=(285, 210), fontweight='bold',\n",
    "#             arrowprops=dict(facecolor='red', width=3, headwidth=10))\n",
    "#ax1.annotate('TN', xy=(320, 38), xycoords='figure points', xytext=(400, 70), fontweight='bold',\n",
    "#             arrowprops=dict(facecolor='red', width=3, headwidth=10))\n",
    "#ax1.annotate('FN', xy=(300, 38), xycoords='figure points', xytext=(530, 70), fontweight='bold',\n",
    "#             arrowprops=dict(facecolor='red', width=3, headwidth=10))\n",
    "#ax1.annotate('FP', xy=(187, 188), xycoords='figure points', xytext=(220, 210), fontweight='bold',\n",
    "#             arrowprops=dict(facecolor='red', width=3, headwidth=10))\n",
    "\n",
    "\n",
    "plt.savefig('./data/images/5.5_F1_CO_30s.svg', bbox_inches='tight', transparent=True)\n",
    "pass"
   ]
  },
  {
   "cell_type": "code",
   "execution_count": null,
   "metadata": {},
   "outputs": [
    {
     "data": {
      "image/png": "[encoded data removed]",
      "text/plain": [
       "<Figure size 720x288 with 1 Axes>"
      ]
     },
     "metadata": {
      "needs_background": "light"
     },
     "output_type": "display_data"
    }
   ],
   "source": [
    "rcParams['figure.figsize'] = (10, 4)\n",
    "\n",
    "t0 = '2022-12-16 12:13:00+01:00'  #tiempo inicial\n",
    "t1 = '2022-12-16 12:24:00+01:00' #tiempo final\n",
    "\n",
    "fig, ax1 = plt.subplots();\n",
    "ax1=gt['Microwave'].plot(lw=4, c='tab:orange')\n",
    "pred_CO['Microwave'].plot(ax=ax1, c='darkred', lw=1.5, ls='--')\n",
    "ax1.legend(labels=['Microwave','Pred_CO'], fontsize=9, loc='upper left', ncol=1)\n",
    "ax1.set_ylim(-10,250)\n",
    "ax1.set_xlim(t0,t1)\n",
    "ax1.minorticks_off()\n",
    "ax1.set_xticklabels(labels=['10:00','10:10','10:20','10:30','10:40','10:50','11:00','11:15'] , horizontalalignment ='right')  \n",
    "\n",
    "ax1.set_ylabel('Power (W)')\n",
    "\n",
    "#ax1.annotate('TP', xy=(250, 188), xycoords='figure points', xytext=(285, 210), fontweight='bold',\n",
    "#             arrowprops=dict(facecolor='red', width=3, headwidth=10))\n",
    "#ax1.annotate('TN', xy=(320, 38), xycoords='figure points', xytext=(400, 70), fontweight='bold',\n",
    "#             arrowprops=dict(facecolor='red', width=3, headwidth=10))\n",
    "#ax1.annotate('FN', xy=(300, 38), xycoords='figure points', xytext=(530, 70), fontweight='bold',\n",
    "#             arrowprops=dict(facecolor='red', width=3, headwidth=10))\n",
    "#ax1.annotate('FP', xy=(187, 188), xycoords='figure points', xytext=(220, 210), fontweight='bold',\n",
    "#             arrowprops=dict(facecolor='red', width=3, headwidth=10))\n",
    "\n",
    "\n",
    "plt.savefig('./data/images/5.5_F1_CO_30s.svg', bbox_inches='tight', transparent=True)\n",
    "pass"
   ]
  },
  {
   "cell_type": "code",
   "execution_count": null,
   "metadata": {},
   "outputs": [
    {
     "data": {
      "image/png": "[encoded data removed]",
      "text/plain": [
       "<Figure size 720x288 with 1 Axes>"
      ]
     },
     "metadata": {
      "needs_background": "light"
     },
     "output_type": "display_data"
    }
   ],
   "source": [
    "rcParams['figure.figsize'] = (10, 4)\n",
    "\n",
    "t0 = '2022-12-16 12:13:00+01:00'  #tiempo inicial\n",
    "t1 = '2022-12-16 12:24:00+01:00' #tiempo final\n",
    "\n",
    "fig, ax1 = plt.subplots();\n",
    "ax1=gt['Television'].plot(lw=4, c='tab:orange')\n",
    "pred_CO['Television'].plot(ax=ax1, c='darkred', lw=1.5, ls='--')\n",
    "ax1.legend(labels=['Television','Pred_CO'], fontsize=9, loc='upper left', ncol=1)\n",
    "ax1.set_ylim(-10,250)\n",
    "ax1.set_xlim(t0,t1)\n",
    "ax1.minorticks_off()\n",
    "ax1.set_xticklabels(labels=['10:00','10:10','10:20','10:30','10:40','10:50','11:00','11:15'] , horizontalalignment ='right')  \n",
    "\n",
    "ax1.set_ylabel('Power (W)')\n",
    "\n",
    "#ax1.annotate('TP', xy=(250, 188), xycoords='figure points', xytext=(285, 210), fontweight='bold',\n",
    "#             arrowprops=dict(facecolor='red', width=3, headwidth=10))\n",
    "#ax1.annotate('TN', xy=(320, 38), xycoords='figure points', xytext=(400, 70), fontweight='bold',\n",
    "#             arrowprops=dict(facecolor='red', width=3, headwidth=10))\n",
    "#ax1.annotate('FN', xy=(300, 38), xycoords='figure points', xytext=(530, 70), fontweight='bold',\n",
    "#             arrowprops=dict(facecolor='red', width=3, headwidth=10))\n",
    "#ax1.annotate('FP', xy=(187, 188), xycoords='figure points', xytext=(220, 210), fontweight='bold',\n",
    "#             arrowprops=dict(facecolor='red', width=3, headwidth=10))\n",
    "\n",
    "\n",
    "plt.savefig('./data/images/5.5_F1_CO_30s.svg', bbox_inches='tight', transparent=True)\n",
    "pass"
   ]
  },
  {
   "cell_type": "code",
   "execution_count": null,
   "metadata": {},
   "outputs": [
    {
     "data": {
      "image/png": "[encoded data removed]",
      "text/plain": [
       "<Figure size 720x288 with 1 Axes>"
      ]
     },
     "metadata": {
      "needs_background": "light"
     },
     "output_type": "display_data"
    }
   ],
   "source": [
    "rcParams['figure.figsize'] = (10, 4)\n",
    "\n",
    "\n",
    "t0 = '2022-12-16 12:13:00+01:00'  #tiempo inicial\n",
    "t1 = '2022-12-16 12:24:00+01:00' #tiempo final\n",
    "\n",
    "fig, ax1 = plt.subplots();\n",
    "ax1=gt['Kettle'].plot(lw=4, c='tab:orange')\n",
    "pred_CO['Kettle'].plot(ax=ax1, c='darkred', lw=1.5, ls='--')\n",
    "ax1.legend(labels=['Kettle','Pred_CO'], fontsize=9, loc='upper left', ncol=1)\n",
    "ax1.set_ylim(-10,250)\n",
    "ax1.set_xlim(t0,t1)\n",
    "ax1.minorticks_off()\n",
    "ax1.set_xticklabels(labels=['10:00','10:10','10:20','10:30','10:40','10:50','11:00','11:15'] , horizontalalignment ='right')  \n",
    "\n",
    "ax1.set_ylabel('Power (W)')\n",
    "\n",
    "#ax1.annotate('TP', xy=(250, 188), xycoords='figure points', xytext=(285, 210), fontweight='bold',\n",
    "#             arrowprops=dict(facecolor='red', width=3, headwidth=10))\n",
    "#ax1.annotate('TN', xy=(320, 38), xycoords='figure points', xytext=(400, 70), fontweight='bold',\n",
    "#             arrowprops=dict(facecolor='red', width=3, headwidth=10))\n",
    "#ax1.annotate('FN', xy=(300, 38), xycoords='figure points', xytext=(530, 70), fontweight='bold',\n",
    "#             arrowprops=dict(facecolor='red', width=3, headwidth=10))\n",
    "#ax1.annotate('FP', xy=(187, 188), xycoords='figure points', xytext=(220, 210), fontweight='bold',\n",
    "#             arrowprops=dict(facecolor='red', width=3, headwidth=10))\n",
    "\n",
    "\n",
    "plt.savefig('./data/images/5.5_F1_CO_30s.svg', bbox_inches='tight', transparent=True)\n",
    "pass"
   ]
  },
  {
   "cell_type": "code",
   "execution_count": null,
   "metadata": {},
   "outputs": [
    {
     "data": {
      "image/png": "[encoded data removed]",
      "text/plain": [
       "<Figure size 720x288 with 1 Axes>"
      ]
     },
     "metadata": {
      "needs_background": "light"
     },
     "output_type": "display_data"
    }
   ],
   "source": [
    "rcParams['figure.figsize'] = (10, 4)\n",
    "\n",
    "t0 = '2022-12-16 12:13:00+01:00'  #tiempo inicial\n",
    "t1 = '2022-12-16 12:24:00+01:00' #tiempo final\n",
    "\n",
    "\n",
    "\n",
    "fig, ax1 = plt.subplots();\n",
    "ax1=gt['Vacuum cleaner'].plot(lw=4, c='tab:orange')\n",
    "pred_CO['Vacuum cleaner'].plot(ax=ax1, c='darkred', lw=1.5, ls='--')\n",
    "ax1.legend(labels=['Vacuum cleaner','Pred_CO'], fontsize=9, loc='upper left', ncol=1)\n",
    "ax1.set_ylim(-10,250)\n",
    "ax1.set_xlim(t0,t1)\n",
    "ax1.minorticks_off()\n",
    "ax1.set_xticklabels(labels=['10:00','10:10','10:20','10:30','10:40','10:50','11:00','11:15'] , horizontalalignment ='right')  \n",
    "\n",
    "ax1.set_ylabel('Power (W)')\n",
    "\n",
    "#ax1.annotate('TP', xy=(250, 188), xycoords='figure points', xytext=(285, 210), fontweight='bold',\n",
    "#             arrowprops=dict(facecolor='red', width=3, headwidth=10))\n",
    "#ax1.annotate('TN', xy=(320, 38), xycoords='figure points', xytext=(400, 70), fontweight='bold',\n",
    "#             arrowprops=dict(facecolor='red', width=3, headwidth=10))\n",
    "#ax1.annotate('FN', xy=(300, 38), xycoords='figure points', xytext=(530, 70), fontweight='bold',\n",
    "#             arrowprops=dict(facecolor='red', width=3, headwidth=10))\n",
    "#ax1.annotate('FP', xy=(187, 188), xycoords='figure points', xytext=(220, 210), fontweight='bold',\n",
    "#             arrowprops=dict(facecolor='red', width=3, headwidth=10))\n",
    "\n",
    "\n",
    "plt.savefig('./data/images/5.5_F1_CO_30s.svg', bbox_inches='tight', transparent=True)\n",
    "pass"
   ]
  },
  {
   "cell_type": "code",
   "execution_count": null,
   "metadata": {},
   "outputs": [
    {
     "data": {
      "image/png": "[encoded data removed]",
      "text/plain": [
       "<Figure size 720x288 with 1 Axes>"
      ]
     },
     "metadata": {
      "needs_background": "light"
     },
     "output_type": "display_data"
    }
   ],
   "source": [
    "rcParams['figure.figsize'] = (10, 4)\n",
    "\n",
    "t0 = '2022-12-16 12:13:00+01:00'  #tiempo inicial\n",
    "t1 = '2022-12-16 12:24:00+01:00' #tiempo final\n",
    "\n",
    "\n",
    "fig, ax1 = plt.subplots();\n",
    "ax1=gt['Electric space heater'].plot(lw=4, c='tab:orange')\n",
    "pred_CO['Electric space heater'].plot(ax=ax1, c='darkred', lw=1.5, ls='--')\n",
    "ax1.legend(labels=['Electric space heater','Pred_CO'], fontsize=9, loc='upper left', ncol=1)\n",
    "ax1.set_ylim(-10,250)\n",
    "ax1.set_xlim(t0,t1)\n",
    "ax1.minorticks_off()\n",
    "ax1.set_xticklabels(labels=['10:00','10:10','10:20','10:30','10:40','10:50','11:00','11:15'] , horizontalalignment ='right')  \n",
    "\n",
    "ax1.set_ylabel('Power (W)')\n",
    "\n",
    "#ax1.annotate('TP', xy=(250, 188), xycoords='figure points', xytext=(285, 210), fontweight='bold',\n",
    "#             arrowprops=dict(facecolor='red', width=3, headwidth=10))\n",
    "#ax1.annotate('TN', xy=(320, 38), xycoords='figure points', xytext=(400, 70), fontweight='bold',\n",
    "#             arrowprops=dict(facecolor='red', width=3, headwidth=10))\n",
    "#ax1.annotate('FN', xy=(300, 38), xycoords='figure points', xytext=(530, 70), fontweight='bold',\n",
    "#             arrowprops=dict(facecolor='red', width=3, headwidth=10))\n",
    "#ax1.annotate('FP', xy=(187, 188), xycoords='figure points', xytext=(220, 210), fontweight='bold',\n",
    "#             arrowprops=dict(facecolor='red', width=3, headwidth=10))\n",
    "\n",
    "\n",
    "plt.savefig('./data/images/5.5_F1_CO_30s.svg', bbox_inches='tight', transparent=True)\n",
    "pass"
   ]
  },
  {
   "cell_type": "code",
   "execution_count": null,
   "metadata": {},
   "outputs": [
    {
     "data": {
      "image/png": "[encoded data removed]",
      "text/plain": [
       "<Figure size 720x288 with 1 Axes>"
      ]
     },
     "metadata": {
      "needs_background": "light"
     },
     "output_type": "display_data"
    }
   ],
   "source": [
    "rcParams['figure.figsize'] = (10, 4)\n",
    "t0 = '2022-12-16 12:13:00+01:00'  #tiempo inicial\n",
    "t1 = '2022-12-16 12:24:00+01:00' #tiempo final\n",
    "\n",
    "\n",
    "\n",
    "fig, ax1 = plt.subplots();\n",
    "ax1=gt['Electric shower heater'].plot(lw=4, c='tab:orange')\n",
    "pred_CO['Electric shower heater'].plot(ax=ax1, c='darkred', lw=1.5, ls='--')\n",
    "ax1.legend(labels=['Electric shower heater','Pred_CO'], fontsize=9, loc='upper left', ncol=1)\n",
    "ax1.set_ylim(-10,250)\n",
    "ax1.set_xlim(t0,t1)\n",
    "ax1.minorticks_off()\n",
    "ax1.set_xticklabels(labels=['10:00','10:10','10:20','10:30','10:40','10:50','11:00','11:15'] , horizontalalignment ='right')  \n",
    "\n",
    "ax1.set_ylabel('Power (W)')\n",
    "\n",
    "#ax1.annotate('TP', xy=(250, 188), xycoords='figure points', xytext=(285, 210), fontweight='bold',\n",
    "#             arrowprops=dict(facecolor='red', width=3, headwidth=10))\n",
    "#ax1.annotate('TN', xy=(320, 38), xycoords='figure points', xytext=(400, 70), fontweight='bold',\n",
    "#             arrowprops=dict(facecolor='red', width=3, headwidth=10))\n",
    "#ax1.annotate('FN', xy=(300, 38), xycoords='figure points', xytext=(530, 70), fontweight='bold',\n",
    "#             arrowprops=dict(facecolor='red', width=3, headwidth=10))\n",
    "#ax1.annotate('FP', xy=(187, 188), xycoords='figure points', xytext=(220, 210), fontweight='bold',\n",
    "#             arrowprops=dict(facecolor='red', width=3, headwidth=10))\n",
    "\n",
    "\n",
    "plt.savefig('./data/images/5.5_F1_CO_30s.svg', bbox_inches='tight', transparent=True)\n",
    "pass"
   ]
  },
  {
   "cell_type": "code",
   "execution_count": null,
   "metadata": {},
   "outputs": [
    {
     "data": {
      "image/png": "[encoded data removed]",
      "text/plain": [
       "<Figure size 720x288 with 1 Axes>"
      ]
     },
     "metadata": {
      "needs_background": "light"
     },
     "output_type": "display_data"
    }
   ],
   "source": [
    "rcParams['figure.figsize'] = (10, 4)\n",
    "\n",
    "t0 = '2022-12-16 12:13:00+01:00'  #tiempo inicial\n",
    "t1 = '2022-12-16 12:24:00+01:00' #tiempo final\n",
    "\n",
    "\n",
    "fig, ax1 = plt.subplots();\n",
    "ax1=gt['Fan'].plot(lw=4, c='tab:orange')\n",
    "pred_CO['Fan'].plot(ax=ax1, c='darkred', lw=1.5, ls='--')\n",
    "ax1.legend(labels=['Fan','Pred_CO'], fontsize=9, loc='upper left', ncol=1)\n",
    "ax1.set_ylim(-10,250)\n",
    "ax1.set_xlim(t0,t1)\n",
    "ax1.minorticks_off()\n",
    "ax1.set_xticklabels(labels=['10:00','10:10','10:20','10:30','10:40','10:50','11:00','11:15'] , horizontalalignment ='right')  \n",
    "\n",
    "ax1.set_ylabel('Power (W)')\n",
    "\n",
    "#ax1.annotate('TP', xy=(250, 188), xycoords='figure points', xytext=(285, 210), fontweight='bold',\n",
    "#             arrowprops=dict(facecolor='red', width=3, headwidth=10))\n",
    "#ax1.annotate('TN', xy=(320, 38), xycoords='figure points', xytext=(400, 70), fontweight='bold',\n",
    "#             arrowprops=dict(facecolor='red', width=3, headwidth=10))\n",
    "#ax1.annotate('FN', xy=(300, 38), xycoords='figure points', xytext=(530, 70), fontweight='bold',\n",
    "#             arrowprops=dict(facecolor='red', width=3, headwidth=10))\n",
    "#ax1.annotate('FP', xy=(187, 188), xycoords='figure points', xytext=(220, 210), fontweight='bold',\n",
    "#             arrowprops=dict(facecolor='red', width=3, headwidth=10))\n",
    "\n",
    "\n",
    "plt.savefig('./data/images/5.5_F1_CO_30s.svg', bbox_inches='tight', transparent=True)\n",
    "pass"
   ]
  },
  {
   "cell_type": "code",
   "execution_count": null,
   "metadata": {},
   "outputs": [
    {
     "data": {
      "image/png": "[encoded data removed]",
      "text/plain": [
       "<Figure size 720x288 with 1 Axes>"
      ]
     },
     "metadata": {
      "needs_background": "light"
     },
     "output_type": "display_data"
    }
   ],
   "source": [
    "rcParams['figure.figsize'] = (10, 4)\n",
    "t0 = '2022-12-16 12:13:00+01:00'  #tiempo inicial\n",
    "t1 = '2022-12-16 12:24:00+01:00' #tiempo final\n",
    "\n",
    "\n",
    "\n",
    "fig, ax1 = plt.subplots();\n",
    "ax1=gt['Fridge'].plot(lw=4, c='tab:orange')\n",
    "pred_CO['Fridge'].plot(ax=ax1, c='darkred', lw=1.5, ls='--')\n",
    "ax1.legend(labels=['Fridge','Pred_CO'], fontsize=9, loc='upper left', ncol=1)\n",
    "ax1.set_ylim(-10,250)\n",
    "ax1.set_xlim(t0,t1)\n",
    "ax1.minorticks_off()\n",
    "ax1.set_xticklabels(labels=['10:00','10:10','10:20','10:30','10:40','10:50','11:00','11:15'] , horizontalalignment ='right')  \n",
    "\n",
    "ax1.set_ylabel('Power (W)')\n",
    "\n",
    "#ax1.annotate('TP', xy=(250, 188), xycoords='figure points', xytext=(285, 210), fontweight='bold',\n",
    "#             arrowprops=dict(facecolor='red', width=3, headwidth=10))\n",
    "#ax1.annotate('TN', xy=(320, 38), xycoords='figure points', xytext=(400, 70), fontweight='bold',\n",
    "#             arrowprops=dict(facecolor='red', width=3, headwidth=10))\n",
    "#ax1.annotate('FN', xy=(300, 38), xycoords='figure points', xytext=(530, 70), fontweight='bold',\n",
    "#             arrowprops=dict(facecolor='red', width=3, headwidth=10))\n",
    "#ax1.annotate('FP', xy=(187, 188), xycoords='figure points', xytext=(220, 210), fontweight='bold',\n",
    "#             arrowprops=dict(facecolor='red', width=3, headwidth=10))\n",
    "\n",
    "\n",
    "plt.savefig('./data/images/5.5_F1_CO_30s.svg', bbox_inches='tight', transparent=True)\n",
    "pass"
   ]
  },
  {
   "cell_type": "code",
   "execution_count": null,
   "metadata": {},
   "outputs": [
    {
     "data": {
      "image/png": "[encoded data removed]",
      "text/plain": [
       "<Figure size 720x288 with 1 Axes>"
      ]
     },
     "metadata": {
      "needs_background": "light"
     },
     "output_type": "display_data"
    }
   ],
   "source": [
    "rcParams['figure.figsize'] = (10, 4)\n",
    "\n",
    "t0 = '2022-12-16 12:13:00+01:00'  #tiempo inicial\n",
    "t1 = '2022-12-16 12:24:00+01:00' #tiempo final\n",
    "\n",
    "\n",
    "fig, ax1 = plt.subplots();\n",
    "ax1=gt['Freezer'].plot(lw=4, c='tab:orange')\n",
    "pred_CO['Freezer'].plot(ax=ax1, c='darkred', lw=1.5, ls='--')\n",
    "ax1.legend(labels=['Freezer','Pred_CO'], fontsize=9, loc='upper left', ncol=1)\n",
    "ax1.set_ylim(-10,250)\n",
    "ax1.set_xlim(t0,t1)\n",
    "ax1.minorticks_off()\n",
    "ax1.set_xticklabels(labels=['10:00','10:10','10:20','10:30','10:40','10:50','11:00','11:15'] , horizontalalignment ='right')  \n",
    "\n",
    "ax1.set_ylabel('Power (W)')\n",
    "\n",
    "#ax1.annotate('TP', xy=(250, 188), xycoords='figure points', xytext=(285, 210), fontweight='bold',\n",
    "#             arrowprops=dict(facecolor='red', width=3, headwidth=10))\n",
    "#ax1.annotate('TN', xy=(320, 38), xycoords='figure points', xytext=(400, 70), fontweight='bold',\n",
    "#             arrowprops=dict(facecolor='red', width=3, headwidth=10))\n",
    "#ax1.annotate('FN', xy=(300, 38), xycoords='figure points', xytext=(530, 70), fontweight='bold',\n",
    "#             arrowprops=dict(facecolor='red', width=3, headwidth=10))\n",
    "#ax1.annotate('FP', xy=(187, 188), xycoords='figure points', xytext=(220, 210), fontweight='bold',\n",
    "#             arrowprops=dict(facecolor='red', width=3, headwidth=10))\n",
    "\n",
    "\n",
    "plt.savefig('./data/images/5.5_F1_CO_30s.svg', bbox_inches='tight', transparent=True)\n",
    "pass"
   ]
  },
  {
   "cell_type": "code",
   "execution_count": null,
   "metadata": {},
   "outputs": [],
   "source": []
  },
  {
   "cell_type": "code",
   "execution_count": null,
   "metadata": {},
   "outputs": [],
   "source": []
  },
  {
   "cell_type": "code",
   "execution_count": null,
   "metadata": {},
   "outputs": [],
   "source": []
  },
  {
   "cell_type": "code",
   "execution_count": null,
   "metadata": {},
   "outputs": [],
   "source": []
  },
  {
   "cell_type": "code",
   "execution_count": null,
   "metadata": {},
   "outputs": [],
   "source": []
  },
  {
   "cell_type": "code",
   "execution_count": null,
   "metadata": {},
   "outputs": [],
   "source": []
  },
  {
   "cell_type": "markdown",
   "metadata": {},
   "source": [
    "# Métrica EAE"
   ]
  },
  {
   "cell_type": "markdown",
   "metadata": {},
   "source": [
    "La ecuación de la figura representa la diferencia entre la energía total asignada yˆt(n) energía total consumida yt(n) por el proceso n de la industria en kWh "
   ]
  },
  {
   "cell_type": "markdown",
   "metadata": {},
   "source": [
    "![metricas](metricas.jpg)"
   ]
  },
  {
   "cell_type": "code",
   "execution_count": null,
   "metadata": {},
   "outputs": [
    {
     "ename": "NameError",
     "evalue": "name 'metrics' is not defined",
     "output_type": "error",
     "traceback": [
      "\u001b[1;31m---------------------------------------------------------------------------\u001b[0m",
      "\u001b[1;31mNameError\u001b[0m                                 Traceback (most recent call last)",
      "\u001b[1;32m<ipython-input-24-ec500477319d>\u001b[0m in \u001b[0;36m<module>\u001b[1;34m()\u001b[0m\n\u001b[1;32m----> 1\u001b[1;33m \u001b[0mround\u001b[0m\u001b[1;33m(\u001b[0m\u001b[0mpd\u001b[0m\u001b[1;33m.\u001b[0m\u001b[0mDataFrame\u001b[0m\u001b[1;33m(\u001b[0m\u001b[0mmetrics\u001b[0m\u001b[1;33m.\u001b[0m\u001b[0mloc\u001b[0m\u001b[1;33m[\u001b[0m\u001b[1;34m'EAE'\u001b[0m\u001b[1;33m]\u001b[0m\u001b[1;33m)\u001b[0m\u001b[1;33m.\u001b[0m\u001b[0mtranspose\u001b[0m\u001b[1;33m(\u001b[0m\u001b[1;33m)\u001b[0m\u001b[1;33m,\u001b[0m\u001b[1;36m2\u001b[0m\u001b[1;33m)\u001b[0m\u001b[1;33m\u001b[0m\u001b[1;33m\u001b[0m\u001b[0m\n\u001b[0m",
      "\u001b[1;31mNameError\u001b[0m: name 'metrics' is not defined"
     ]
    }
   ],
   "source": [
    "round(pd.DataFrame(metrics.loc['EAE']).transpose(),2)"
   ]
  },
  {
   "cell_type": "code",
   "execution_count": null,
   "metadata": {},
   "outputs": [
    {
     "ename": "IndexError",
     "evalue": "index out of bounds",
     "output_type": "error",
     "traceback": [
      "\u001b[1;31m---------------------------------------------------------------------------\u001b[0m",
      "\u001b[1;31mKeyError\u001b[0m                                  Traceback (most recent call last)",
      "\u001b[1;32mC:\\Users\\carlo\\anaconda3\\envs\\nilmtk-env\\lib\\site-packages\\pandas\\core\\indexes\\base.py\u001b[0m in \u001b[0;36mget_value\u001b[1;34m(self, series, key)\u001b[0m\n\u001b[0;32m   4729\u001b[0m         \u001b[1;32mtry\u001b[0m\u001b[1;33m:\u001b[0m\u001b[1;33m\u001b[0m\u001b[1;33m\u001b[0m\u001b[0m\n\u001b[1;32m-> 4730\u001b[1;33m             \u001b[1;32mreturn\u001b[0m \u001b[0mself\u001b[0m\u001b[1;33m.\u001b[0m\u001b[0m_engine\u001b[0m\u001b[1;33m.\u001b[0m\u001b[0mget_value\u001b[0m\u001b[1;33m(\u001b[0m\u001b[0ms\u001b[0m\u001b[1;33m,\u001b[0m \u001b[0mk\u001b[0m\u001b[1;33m,\u001b[0m \u001b[0mtz\u001b[0m\u001b[1;33m=\u001b[0m\u001b[0mgetattr\u001b[0m\u001b[1;33m(\u001b[0m\u001b[0mseries\u001b[0m\u001b[1;33m.\u001b[0m\u001b[0mdtype\u001b[0m\u001b[1;33m,\u001b[0m \u001b[1;34m\"tz\"\u001b[0m\u001b[1;33m,\u001b[0m \u001b[1;32mNone\u001b[0m\u001b[1;33m)\u001b[0m\u001b[1;33m)\u001b[0m\u001b[1;33m\u001b[0m\u001b[1;33m\u001b[0m\u001b[0m\n\u001b[0m\u001b[0;32m   4731\u001b[0m         \u001b[1;32mexcept\u001b[0m \u001b[0mKeyError\u001b[0m \u001b[1;32mas\u001b[0m \u001b[0me1\u001b[0m\u001b[1;33m:\u001b[0m\u001b[1;33m\u001b[0m\u001b[1;33m\u001b[0m\u001b[0m\n",
      "\u001b[1;32mpandas/_libs/index.pyx\u001b[0m in \u001b[0;36mpandas._libs.index.IndexEngine.get_value\u001b[1;34m()\u001b[0m\n",
      "\u001b[1;32mpandas/_libs/index.pyx\u001b[0m in \u001b[0;36mpandas._libs.index.IndexEngine.get_value\u001b[1;34m()\u001b[0m\n",
      "\u001b[1;32mpandas/_libs/index.pyx\u001b[0m in \u001b[0;36mpandas._libs.index.IndexEngine.get_loc\u001b[1;34m()\u001b[0m\n",
      "\u001b[1;32mpandas/_libs/hashtable_class_helper.pxi\u001b[0m in \u001b[0;36mpandas._libs.hashtable.PyObjectHashTable.get_item\u001b[1;34m()\u001b[0m\n",
      "\u001b[1;32mpandas/_libs/hashtable_class_helper.pxi\u001b[0m in \u001b[0;36mpandas._libs.hashtable.PyObjectHashTable.get_item\u001b[1;34m()\u001b[0m\n",
      "\u001b[1;31mKeyError\u001b[0m: 0",
      "\nDuring handling of the above exception, another exception occurred:\n",
      "\u001b[1;31mIndexError\u001b[0m                                Traceback (most recent call last)",
      "\u001b[1;32m<ipython-input-25-538faa27e759>\u001b[0m in \u001b[0;36m<module>\u001b[1;34m()\u001b[0m\n\u001b[0;32m      1\u001b[0m \u001b[0mpredictions_Devices\u001b[0m\u001b[1;33m=\u001b[0m\u001b[0melec_CO_30s_first\u001b[0m\u001b[1;33m.\u001b[0m\u001b[0msubmeters\u001b[0m\u001b[1;33m(\u001b[0m\u001b[1;33m)\u001b[0m\u001b[1;33m\u001b[0m\u001b[1;33m\u001b[0m\u001b[0m\n\u001b[1;32m----> 2\u001b[1;33m \u001b[0me1\u001b[0m\u001b[1;33m=\u001b[0m\u001b[0mpredictions_Devices\u001b[0m\u001b[1;33m[\u001b[0m\u001b[1;36m10\u001b[0m\u001b[1;33m]\u001b[0m\u001b[1;33m.\u001b[0m\u001b[0mtotal_energy\u001b[0m\u001b[1;33m(\u001b[0m\u001b[1;33m)\u001b[0m\u001b[1;33m[\u001b[0m\u001b[1;36m0\u001b[0m\u001b[1;33m]\u001b[0m\u001b[1;33m\u001b[0m\u001b[1;33m\u001b[0m\u001b[0m\n\u001b[0m\u001b[0;32m      3\u001b[0m \u001b[0me2\u001b[0m\u001b[1;33m=\u001b[0m\u001b[0mvalid_Devices\u001b[0m\u001b[1;33m[\u001b[0m\u001b[1;36m10\u001b[0m\u001b[1;33m]\u001b[0m\u001b[1;33m.\u001b[0m\u001b[0mtotal_energy\u001b[0m\u001b[1;33m(\u001b[0m\u001b[1;33m)\u001b[0m\u001b[1;33m[\u001b[0m\u001b[1;36m0\u001b[0m\u001b[1;33m]\u001b[0m\u001b[1;33m\u001b[0m\u001b[1;33m\u001b[0m\u001b[0m\n\u001b[0;32m      4\u001b[0m \u001b[0meae\u001b[0m\u001b[1;33m=\u001b[0m\u001b[0mround\u001b[0m\u001b[1;33m(\u001b[0m\u001b[0mabs\u001b[0m\u001b[1;33m(\u001b[0m\u001b[0me1\u001b[0m\u001b[1;33m-\u001b[0m\u001b[0me2\u001b[0m\u001b[1;33m)\u001b[0m\u001b[1;33m,\u001b[0m\u001b[1;36m2\u001b[0m\u001b[1;33m)\u001b[0m\u001b[1;33m\u001b[0m\u001b[1;33m\u001b[0m\u001b[0m\n\u001b[0;32m      5\u001b[0m \u001b[1;33m\u001b[0m\u001b[0m\n",
      "\u001b[1;32mC:\\Users\\carlo\\anaconda3\\envs\\nilmtk-env\\lib\\site-packages\\pandas\\core\\series.py\u001b[0m in \u001b[0;36m__getitem__\u001b[1;34m(self, key)\u001b[0m\n\u001b[0;32m   1069\u001b[0m         \u001b[0mkey\u001b[0m \u001b[1;33m=\u001b[0m \u001b[0mcom\u001b[0m\u001b[1;33m.\u001b[0m\u001b[0mapply_if_callable\u001b[0m\u001b[1;33m(\u001b[0m\u001b[0mkey\u001b[0m\u001b[1;33m,\u001b[0m \u001b[0mself\u001b[0m\u001b[1;33m)\u001b[0m\u001b[1;33m\u001b[0m\u001b[1;33m\u001b[0m\u001b[0m\n\u001b[0;32m   1070\u001b[0m         \u001b[1;32mtry\u001b[0m\u001b[1;33m:\u001b[0m\u001b[1;33m\u001b[0m\u001b[1;33m\u001b[0m\u001b[0m\n\u001b[1;32m-> 1071\u001b[1;33m             \u001b[0mresult\u001b[0m \u001b[1;33m=\u001b[0m \u001b[0mself\u001b[0m\u001b[1;33m.\u001b[0m\u001b[0mindex\u001b[0m\u001b[1;33m.\u001b[0m\u001b[0mget_value\u001b[0m\u001b[1;33m(\u001b[0m\u001b[0mself\u001b[0m\u001b[1;33m,\u001b[0m \u001b[0mkey\u001b[0m\u001b[1;33m)\u001b[0m\u001b[1;33m\u001b[0m\u001b[1;33m\u001b[0m\u001b[0m\n\u001b[0m\u001b[0;32m   1072\u001b[0m \u001b[1;33m\u001b[0m\u001b[0m\n\u001b[0;32m   1073\u001b[0m             \u001b[1;32mif\u001b[0m \u001b[1;32mnot\u001b[0m \u001b[0mis_scalar\u001b[0m\u001b[1;33m(\u001b[0m\u001b[0mresult\u001b[0m\u001b[1;33m)\u001b[0m\u001b[1;33m:\u001b[0m\u001b[1;33m\u001b[0m\u001b[1;33m\u001b[0m\u001b[0m\n",
      "\u001b[1;32mC:\\Users\\carlo\\anaconda3\\envs\\nilmtk-env\\lib\\site-packages\\pandas\\core\\indexes\\base.py\u001b[0m in \u001b[0;36mget_value\u001b[1;34m(self, series, key)\u001b[0m\n\u001b[0;32m   4734\u001b[0m \u001b[1;33m\u001b[0m\u001b[0m\n\u001b[0;32m   4735\u001b[0m             \u001b[1;32mtry\u001b[0m\u001b[1;33m:\u001b[0m\u001b[1;33m\u001b[0m\u001b[1;33m\u001b[0m\u001b[0m\n\u001b[1;32m-> 4736\u001b[1;33m                 \u001b[1;32mreturn\u001b[0m \u001b[0mlibindex\u001b[0m\u001b[1;33m.\u001b[0m\u001b[0mget_value_box\u001b[0m\u001b[1;33m(\u001b[0m\u001b[0ms\u001b[0m\u001b[1;33m,\u001b[0m \u001b[0mkey\u001b[0m\u001b[1;33m)\u001b[0m\u001b[1;33m\u001b[0m\u001b[1;33m\u001b[0m\u001b[0m\n\u001b[0m\u001b[0;32m   4737\u001b[0m             \u001b[1;32mexcept\u001b[0m \u001b[0mIndexError\u001b[0m\u001b[1;33m:\u001b[0m\u001b[1;33m\u001b[0m\u001b[1;33m\u001b[0m\u001b[0m\n\u001b[0;32m   4738\u001b[0m                 \u001b[1;32mraise\u001b[0m\u001b[1;33m\u001b[0m\u001b[1;33m\u001b[0m\u001b[0m\n",
      "\u001b[1;32mpandas/_libs/index.pyx\u001b[0m in \u001b[0;36mpandas._libs.index.get_value_box\u001b[1;34m()\u001b[0m\n",
      "\u001b[1;32mpandas/_libs/index.pyx\u001b[0m in \u001b[0;36mpandas._libs.index.get_value_at\u001b[1;34m()\u001b[0m\n",
      "\u001b[1;32mpandas/_libs/util.pxd\u001b[0m in \u001b[0;36mpandas._libs.util.get_value_at\u001b[1;34m()\u001b[0m\n",
      "\u001b[1;32mpandas/_libs/util.pxd\u001b[0m in \u001b[0;36mpandas._libs.util.validate_indexer\u001b[1;34m()\u001b[0m\n",
      "\u001b[1;31mIndexError\u001b[0m: index out of bounds"
     ]
    }
   ],
   "source": [
    "predictions_Devices=elec_CO_30s_first.submeters()\n",
    "e1=predictions_Devices[10].total_energy()[0]\n",
    "e2=valid_Devices[10].total_energy()[0]\n",
    "eae=round(abs(e1-e2),2)\n",
    "\n",
    "pd.DataFrame([e1,e2,eae], columns=['kWh'], index=['Energy_pred','Energy_GT','EAE'])"
   ]
  },
  {
   "cell_type": "markdown",
   "metadata": {},
   "source": [
    "## Métrica MNEAP"
   ]
  },
  {
   "cell_type": "markdown",
   "metadata": {},
   "source": [
    "Este indicador que representa la ecuacion de la imagen  consta de la diferencia entre la potencia asignada yˆt(n) y la potencia real yt(n) de cada proceso de la industria, por cada intervalo de tiempo t. Después de sumar todas las diferencias de potencia, el resultado es normalizado por el consumo total de la energía del proceso "
   ]
  },
  {
   "cell_type": "markdown",
   "metadata": {},
   "source": [
    "![metricas](metricas.jpg)"
   ]
  },
  {
   "cell_type": "code",
   "execution_count": null,
   "metadata": {},
   "outputs": [
    {
     "ename": "NameError",
     "evalue": "name 'metrics' is not defined",
     "output_type": "error",
     "traceback": [
      "\u001b[1;31m---------------------------------------------------------------------------\u001b[0m",
      "\u001b[1;31mNameError\u001b[0m                                 Traceback (most recent call last)",
      "\u001b[1;32m<ipython-input-26-e02b13874175>\u001b[0m in \u001b[0;36m<module>\u001b[1;34m()\u001b[0m\n\u001b[1;32m----> 1\u001b[1;33m \u001b[0mround\u001b[0m\u001b[1;33m(\u001b[0m\u001b[0mpd\u001b[0m\u001b[1;33m.\u001b[0m\u001b[0mDataFrame\u001b[0m\u001b[1;33m(\u001b[0m\u001b[0mmetrics\u001b[0m\u001b[1;33m.\u001b[0m\u001b[0mloc\u001b[0m\u001b[1;33m[\u001b[0m\u001b[1;34m'MNEAP'\u001b[0m\u001b[1;33m]\u001b[0m\u001b[1;33m)\u001b[0m\u001b[1;33m.\u001b[0m\u001b[0mtranspose\u001b[0m\u001b[1;33m(\u001b[0m\u001b[1;33m)\u001b[0m\u001b[1;33m,\u001b[0m\u001b[1;36m2\u001b[0m\u001b[1;33m)\u001b[0m\u001b[1;33m\u001b[0m\u001b[1;33m\u001b[0m\u001b[0m\n\u001b[0m",
      "\u001b[1;31mNameError\u001b[0m: name 'metrics' is not defined"
     ]
    }
   ],
   "source": [
    "round(pd.DataFrame(metrics.loc['MNEAP']).transpose(),2)"
   ]
  },
  {
   "cell_type": "markdown",
   "metadata": {},
   "source": [
    "## Métrica RMSE"
   ]
  },
  {
   "cell_type": "markdown",
   "metadata": {},
   "source": [
    "Esta métrica de la ecuación de la figura es muy utilizada en la comparaciónn de diversos conjuntos de datos, consiste en el error cuadrático medio de la diferencia entre la potencia asignada yˆt(n) y la potencia real yt(n) del proceso de los applicativos , en cada intervalo de tiempo t ."
   ]
  },
  {
   "cell_type": "markdown",
   "metadata": {},
   "source": [
    "![metricas](metricas.jpg)"
   ]
  },
  {
   "cell_type": "code",
   "execution_count": null,
   "metadata": {},
   "outputs": [
    {
     "ename": "NameError",
     "evalue": "name 'metrics' is not defined",
     "output_type": "error",
     "traceback": [
      "\u001b[1;31m---------------------------------------------------------------------------\u001b[0m",
      "\u001b[1;31mNameError\u001b[0m                                 Traceback (most recent call last)",
      "\u001b[1;32m<ipython-input-27-90fb9e6da094>\u001b[0m in \u001b[0;36m<module>\u001b[1;34m()\u001b[0m\n\u001b[1;32m----> 1\u001b[1;33m \u001b[0mround\u001b[0m\u001b[1;33m(\u001b[0m\u001b[0mpd\u001b[0m\u001b[1;33m.\u001b[0m\u001b[0mDataFrame\u001b[0m\u001b[1;33m(\u001b[0m\u001b[0mmetrics\u001b[0m\u001b[1;33m.\u001b[0m\u001b[0mloc\u001b[0m\u001b[1;33m[\u001b[0m\u001b[1;34m'RMSE'\u001b[0m\u001b[1;33m]\u001b[0m\u001b[1;33m)\u001b[0m\u001b[1;33m.\u001b[0m\u001b[0mtranspose\u001b[0m\u001b[1;33m(\u001b[0m\u001b[1;33m)\u001b[0m\u001b[1;33m,\u001b[0m\u001b[1;36m1\u001b[0m\u001b[1;33m)\u001b[0m\u001b[1;33m\u001b[0m\u001b[1;33m\u001b[0m\u001b[0m\n\u001b[0m",
      "\u001b[1;31mNameError\u001b[0m: name 'metrics' is not defined"
     ]
    }
   ],
   "source": [
    "round(pd.DataFrame(metrics.loc['RMSE']).transpose(),1)"
   ]
  },
  {
   "cell_type": "markdown",
   "metadata": {},
   "source": [
    "## Resultados de todos los modelos"
   ]
  },
  {
   "cell_type": "code",
   "execution_count": null,
   "metadata": {},
   "outputs": [
    {
     "name": "stdout",
     "output_type": "stream",
     "text": [
      "\n",
      "Calculando Metricas: CO_10s_first\n"
     ]
    },
    {
     "ename": "IndexError",
     "evalue": "index out of bounds",
     "output_type": "error",
     "traceback": [
      "\u001b[1;31m---------------------------------------------------------------------------\u001b[0m",
      "\u001b[1;31mKeyError\u001b[0m                                  Traceback (most recent call last)",
      "\u001b[1;32mC:\\Users\\carlo\\anaconda3\\envs\\nilmtk-env\\lib\\site-packages\\pandas\\core\\indexes\\base.py\u001b[0m in \u001b[0;36mget_value\u001b[1;34m(self, series, key)\u001b[0m\n\u001b[0;32m   4729\u001b[0m         \u001b[1;32mtry\u001b[0m\u001b[1;33m:\u001b[0m\u001b[1;33m\u001b[0m\u001b[1;33m\u001b[0m\u001b[0m\n\u001b[1;32m-> 4730\u001b[1;33m             \u001b[1;32mreturn\u001b[0m \u001b[0mself\u001b[0m\u001b[1;33m.\u001b[0m\u001b[0m_engine\u001b[0m\u001b[1;33m.\u001b[0m\u001b[0mget_value\u001b[0m\u001b[1;33m(\u001b[0m\u001b[0ms\u001b[0m\u001b[1;33m,\u001b[0m \u001b[0mk\u001b[0m\u001b[1;33m,\u001b[0m \u001b[0mtz\u001b[0m\u001b[1;33m=\u001b[0m\u001b[0mgetattr\u001b[0m\u001b[1;33m(\u001b[0m\u001b[0mseries\u001b[0m\u001b[1;33m.\u001b[0m\u001b[0mdtype\u001b[0m\u001b[1;33m,\u001b[0m \u001b[1;34m\"tz\"\u001b[0m\u001b[1;33m,\u001b[0m \u001b[1;32mNone\u001b[0m\u001b[1;33m)\u001b[0m\u001b[1;33m)\u001b[0m\u001b[1;33m\u001b[0m\u001b[1;33m\u001b[0m\u001b[0m\n\u001b[0m\u001b[0;32m   4731\u001b[0m         \u001b[1;32mexcept\u001b[0m \u001b[0mKeyError\u001b[0m \u001b[1;32mas\u001b[0m \u001b[0me1\u001b[0m\u001b[1;33m:\u001b[0m\u001b[1;33m\u001b[0m\u001b[1;33m\u001b[0m\u001b[0m\n",
      "\u001b[1;32mpandas/_libs/index.pyx\u001b[0m in \u001b[0;36mpandas._libs.index.IndexEngine.get_value\u001b[1;34m()\u001b[0m\n",
      "\u001b[1;32mpandas/_libs/index.pyx\u001b[0m in \u001b[0;36mpandas._libs.index.IndexEngine.get_value\u001b[1;34m()\u001b[0m\n",
      "\u001b[1;32mpandas/_libs/index.pyx\u001b[0m in \u001b[0;36mpandas._libs.index.IndexEngine.get_loc\u001b[1;34m()\u001b[0m\n",
      "\u001b[1;32mpandas/_libs/hashtable_class_helper.pxi\u001b[0m in \u001b[0;36mpandas._libs.hashtable.PyObjectHashTable.get_item\u001b[1;34m()\u001b[0m\n",
      "\u001b[1;32mpandas/_libs/hashtable_class_helper.pxi\u001b[0m in \u001b[0;36mpandas._libs.hashtable.PyObjectHashTable.get_item\u001b[1;34m()\u001b[0m\n",
      "\u001b[1;31mKeyError\u001b[0m: 0",
      "\nDuring handling of the above exception, another exception occurred:\n",
      "\u001b[1;31mIndexError\u001b[0m                                Traceback (most recent call last)",
      "\u001b[1;32m<ipython-input-28-1eb488372989>\u001b[0m in \u001b[0;36m<module>\u001b[1;34m()\u001b[0m\n\u001b[0;32m     26\u001b[0m             \u001b[0mEAE\u001b[0m \u001b[1;33m=\u001b[0m \u001b[0merror_in_assigned_energy\u001b[0m\u001b[1;33m(\u001b[0m\u001b[0mpredictions\u001b[0m\u001b[1;33m,\u001b[0m \u001b[0mvalid_Devices\u001b[0m\u001b[1;33m)\u001b[0m\u001b[1;33m\u001b[0m\u001b[1;33m\u001b[0m\u001b[0m\n\u001b[0;32m     27\u001b[0m \u001b[1;33m\u001b[0m\u001b[0m\n\u001b[1;32m---> 28\u001b[1;33m             \u001b[1;32mfor\u001b[0m \u001b[0mx\u001b[0m \u001b[1;32min\u001b[0m \u001b[0mrange\u001b[0m\u001b[1;33m(\u001b[0m\u001b[0mlen\u001b[0m\u001b[1;33m(\u001b[0m\u001b[0mEAE\u001b[0m\u001b[1;33m)\u001b[0m\u001b[1;33m)\u001b[0m\u001b[1;33m:\u001b[0m \u001b[0me\u001b[0m\u001b[1;33m.\u001b[0m\u001b[0mappend\u001b[0m\u001b[1;33m(\u001b[0m\u001b[0mEAE\u001b[0m\u001b[1;33m.\u001b[0m\u001b[0miloc\u001b[0m\u001b[1;33m[\u001b[0m\u001b[0mx\u001b[0m\u001b[1;33m]\u001b[0m\u001b[1;33m[\u001b[0m\u001b[1;36m0\u001b[0m\u001b[1;33m]\u001b[0m\u001b[1;33m)\u001b[0m\u001b[1;33m\u001b[0m\u001b[1;33m\u001b[0m\u001b[0m\n\u001b[0m\u001b[0;32m     29\u001b[0m             \u001b[0meae\u001b[0m\u001b[1;33m[\u001b[0m\u001b[1;34m'EAE'\u001b[0m\u001b[1;33m]\u001b[0m \u001b[1;33m=\u001b[0m \u001b[0me\u001b[0m\u001b[1;33m\u001b[0m\u001b[1;33m\u001b[0m\u001b[0m\n\u001b[0;32m     30\u001b[0m             \u001b[1;31m#da error para FEAC\u001b[0m\u001b[1;33m\u001b[0m\u001b[1;33m\u001b[0m\u001b[1;33m\u001b[0m\u001b[0m\n",
      "\u001b[1;32mC:\\Users\\carlo\\anaconda3\\envs\\nilmtk-env\\lib\\site-packages\\pandas\\core\\series.py\u001b[0m in \u001b[0;36m__getitem__\u001b[1;34m(self, key)\u001b[0m\n\u001b[0;32m   1069\u001b[0m         \u001b[0mkey\u001b[0m \u001b[1;33m=\u001b[0m \u001b[0mcom\u001b[0m\u001b[1;33m.\u001b[0m\u001b[0mapply_if_callable\u001b[0m\u001b[1;33m(\u001b[0m\u001b[0mkey\u001b[0m\u001b[1;33m,\u001b[0m \u001b[0mself\u001b[0m\u001b[1;33m)\u001b[0m\u001b[1;33m\u001b[0m\u001b[1;33m\u001b[0m\u001b[0m\n\u001b[0;32m   1070\u001b[0m         \u001b[1;32mtry\u001b[0m\u001b[1;33m:\u001b[0m\u001b[1;33m\u001b[0m\u001b[1;33m\u001b[0m\u001b[0m\n\u001b[1;32m-> 1071\u001b[1;33m             \u001b[0mresult\u001b[0m \u001b[1;33m=\u001b[0m \u001b[0mself\u001b[0m\u001b[1;33m.\u001b[0m\u001b[0mindex\u001b[0m\u001b[1;33m.\u001b[0m\u001b[0mget_value\u001b[0m\u001b[1;33m(\u001b[0m\u001b[0mself\u001b[0m\u001b[1;33m,\u001b[0m \u001b[0mkey\u001b[0m\u001b[1;33m)\u001b[0m\u001b[1;33m\u001b[0m\u001b[1;33m\u001b[0m\u001b[0m\n\u001b[0m\u001b[0;32m   1072\u001b[0m \u001b[1;33m\u001b[0m\u001b[0m\n\u001b[0;32m   1073\u001b[0m             \u001b[1;32mif\u001b[0m \u001b[1;32mnot\u001b[0m \u001b[0mis_scalar\u001b[0m\u001b[1;33m(\u001b[0m\u001b[0mresult\u001b[0m\u001b[1;33m)\u001b[0m\u001b[1;33m:\u001b[0m\u001b[1;33m\u001b[0m\u001b[1;33m\u001b[0m\u001b[0m\n",
      "\u001b[1;32mC:\\Users\\carlo\\anaconda3\\envs\\nilmtk-env\\lib\\site-packages\\pandas\\core\\indexes\\base.py\u001b[0m in \u001b[0;36mget_value\u001b[1;34m(self, series, key)\u001b[0m\n\u001b[0;32m   4734\u001b[0m \u001b[1;33m\u001b[0m\u001b[0m\n\u001b[0;32m   4735\u001b[0m             \u001b[1;32mtry\u001b[0m\u001b[1;33m:\u001b[0m\u001b[1;33m\u001b[0m\u001b[1;33m\u001b[0m\u001b[0m\n\u001b[1;32m-> 4736\u001b[1;33m                 \u001b[1;32mreturn\u001b[0m \u001b[0mlibindex\u001b[0m\u001b[1;33m.\u001b[0m\u001b[0mget_value_box\u001b[0m\u001b[1;33m(\u001b[0m\u001b[0ms\u001b[0m\u001b[1;33m,\u001b[0m \u001b[0mkey\u001b[0m\u001b[1;33m)\u001b[0m\u001b[1;33m\u001b[0m\u001b[1;33m\u001b[0m\u001b[0m\n\u001b[0m\u001b[0;32m   4737\u001b[0m             \u001b[1;32mexcept\u001b[0m \u001b[0mIndexError\u001b[0m\u001b[1;33m:\u001b[0m\u001b[1;33m\u001b[0m\u001b[1;33m\u001b[0m\u001b[0m\n\u001b[0;32m   4738\u001b[0m                 \u001b[1;32mraise\u001b[0m\u001b[1;33m\u001b[0m\u001b[1;33m\u001b[0m\u001b[0m\n",
      "\u001b[1;32mpandas/_libs/index.pyx\u001b[0m in \u001b[0;36mpandas._libs.index.get_value_box\u001b[1;34m()\u001b[0m\n",
      "\u001b[1;32mpandas/_libs/index.pyx\u001b[0m in \u001b[0;36mpandas._libs.index.get_value_at\u001b[1;34m()\u001b[0m\n",
      "\u001b[1;32mpandas/_libs/util.pxd\u001b[0m in \u001b[0;36mpandas._libs.util.get_value_at\u001b[1;34m()\u001b[0m\n",
      "\u001b[1;32mpandas/_libs/util.pxd\u001b[0m in \u001b[0;36mpandas._libs.util.validate_indexer\u001b[1;34m()\u001b[0m\n",
      "\u001b[1;31mIndexError\u001b[0m: index out of bounds"
     ]
    }
   ],
   "source": [
    "from nilmtk.metrics import fraction_energy_assigned_correctly, f1_score, error_in_assigned_energy\n",
    "from nilmtk.metrics import mean_normalized_error_power, rms_error_power \n",
    "periods = {'10s':10 , '30s':30, '60s':60, '5min':60*5, '10min':60*10}\n",
    "\n",
    "dir_predictions = data_dir +'NILM/Results/'\n",
    "m = {}\n",
    "classifiers = ['CO', 'FHMM']\n",
    "methods = ['first', 'mean', 'median']\n",
    "index = list(labels['Meters'][1:12])\n",
    "\n",
    "for p_name, sp in periods.items():\n",
    "    met = []\n",
    "    for method in methods:\n",
    "        for clf_name in classifiers:\n",
    "            print('\\nCalculando Metricas: '+ clf_name + '_' + p_name + '_' + method)  \n",
    "           \n",
    "            #Datos de Dispositivos: predicción\n",
    "            input_dir = dir_predictions + clf_name + '_' + p_name + '_' + method +'_pred.h5'\n",
    "            dataset = DataSet(input_dir)\n",
    "            predictions=dataset.buildings[1].elec.submeters()       \n",
    "            \n",
    "            #Metricas\n",
    "            f1 = {}; eae = {}; feac = {}; mneap = {}; rmse = {}; e=[];  \n",
    "            F1 = f1_score(predictions, valid_Devices)\n",
    "            f1['F1'] = F1*100\n",
    "            EAE = error_in_assigned_energy(predictions, valid_Devices)\n",
    "            \n",
    "            for x in range(len(EAE)): e.append(EAE.iloc[x][0])\n",
    "            eae['EAE'] = e\n",
    "            #da error para FEAC\n",
    "            #feac['FEAC'] = 100*np.ones(6)*(fraction_energy_assigned_correctly(predictions, valid_Devices))\n",
    "            mneap['MNEAP'] = mean_normalized_error_power(predictions, valid_Devices)\n",
    "            rmse['RMSE'] = rms_error_power(predictions, valid_Devices)\n",
    "            met.append(pd.concat([pd.DataFrame(feac, index=valid_Devices.instance()),\n",
    "                                  pd.DataFrame(f1),\n",
    "                                  pd.DataFrame(eae, index=valid_Devices.instance()),\n",
    "                                  pd.DataFrame(mneap),\n",
    "                                  pd.DataFrame(rmse)],\n",
    "                                 axis=1).set_index(pd.Index(index)))\n",
    "            dataset.store.close()        \n",
    "    m[p_name] = met\n",
    "\n",
    "##Guardamos resultados\n",
    "f = open(data_dir +'NILM/metrics.txt',\"w\")\n",
    "f.write( str(m) )\n",
    "f.close()\n",
    "print('\\n\\nDone!')\n"
   ]
  },
  {
   "cell_type": "markdown",
   "metadata": {},
   "source": [
    "## Otras Metricas: métricas Promedio"
   ]
  },
  {
   "cell_type": "code",
   "execution_count": null,
   "metadata": {},
   "outputs": [
    {
     "ename": "KeyError",
     "evalue": "'10s'",
     "output_type": "error",
     "traceback": [
      "\u001b[1;31m---------------------------------------------------------------------------\u001b[0m",
      "\u001b[1;31mKeyError\u001b[0m                                  Traceback (most recent call last)",
      "\u001b[1;32m<ipython-input-29-d4160766ede8>\u001b[0m in \u001b[0;36m<module>\u001b[1;34m()\u001b[0m\n\u001b[0;32m      9\u001b[0m \u001b[1;32mfor\u001b[0m \u001b[0mc\u001b[0m \u001b[1;32min\u001b[0m \u001b[0mcols\u001b[0m\u001b[1;33m:\u001b[0m\u001b[1;33m\u001b[0m\u001b[1;33m\u001b[0m\u001b[0m\n\u001b[0;32m     10\u001b[0m     m_mean[c] = pd.DataFrame([#CO FIRST\n\u001b[1;32m---> 11\u001b[1;33m                              [m['10s'][0][c].mean(),m['30s'][0][c].mean(),m['60s'][0][c].mean(),\n\u001b[0m\u001b[0;32m     12\u001b[0m                               m['5min'][0][c].mean(),m['10min'][0][c].mean()],\n\u001b[0;32m     13\u001b[0m                               \u001b[1;31m#CO MEAN\u001b[0m\u001b[1;33m\u001b[0m\u001b[1;33m\u001b[0m\u001b[1;33m\u001b[0m\u001b[0m\n",
      "\u001b[1;31mKeyError\u001b[0m: '10s'"
     ]
    }
   ],
   "source": [
    "m_mean = {}\n",
    "\n",
    "#cols=['FEAC','F1','EAE','MNEAP','RMSE']\n",
    "\n",
    "cols=['F1','EAE','MNEAP','RMSE']\n",
    "labels=['CO-first', 'CO-mean', 'CO-median', 'FHMM-first', 'FHMM-mean' ,'FHMM-median']\n",
    "per=['10s','30s','60s','5min','10min']\n",
    "\n",
    "for c in cols:\n",
    "    m_mean[c] = pd.DataFrame([#CO FIRST\n",
    "                             [m['10s'][0][c].mean(),m['30s'][0][c].mean(),m['60s'][0][c].mean(),\n",
    "                              m['5min'][0][c].mean(),m['10min'][0][c].mean()],\n",
    "                              #CO MEAN\n",
    "                             [m['10s'][2][c].mean(),m['30s'][2][c].mean(),m['60s'][2][c].mean(),\n",
    "                              m['5min'][2][c].mean(),m['10min'][2][c].mean()],\n",
    "                              #CO MEDIAN\n",
    "                             [m['10s'][4][c].mean(),m['30s'][4][c].mean(),m['60s'][4][c].mean(),\n",
    "                              m['5min'][4][c].mean(),m['10min'][4][c].mean()],\n",
    "                             #FHMM FIRST\n",
    "                             [m['10s'][1][c].mean(),m['30s'][1][c].mean(),m['60s'][1][c].mean(),\n",
    "                             m['5min'][1][c].mean(),m['10min'][1][c].mean()],\n",
    "                             #FHMM MEAN            \n",
    "                             [m['10s'][3][c].mean(),m['30s'][3][c].mean(),m['60s'][3][c].mean(),\n",
    "                              m['5min'][3][c].mean(),m['10min'][3][c].mean()],\n",
    "                             #FHMM MEDIAN\n",
    "                             [m['10s'][5][c].mean(),m['30s'][5][c].mean(),m['60s'][5][c].mean(),\n",
    "                              m['5min'][5][c].mean(),m['10min'][5][c].mean()]],columns=per, index=labels).transpose()\n",
    "m_mean\n"
   ]
  },
  {
   "cell_type": "markdown",
   "metadata": {},
   "source": [
    "## Maximos\n"
   ]
  },
  {
   "cell_type": "code",
   "execution_count": null,
   "metadata": {},
   "outputs": [
    {
     "ename": "KeyError",
     "evalue": "'F1'",
     "output_type": "error",
     "traceback": [
      "\u001b[1;31m---------------------------------------------------------------------------\u001b[0m",
      "\u001b[1;31mKeyError\u001b[0m                                  Traceback (most recent call last)",
      "\u001b[1;32m<ipython-input-30-8e34fbc2f0e4>\u001b[0m in \u001b[0;36m<module>\u001b[1;34m()\u001b[0m\n\u001b[0;32m      1\u001b[0m \u001b[0mcols\u001b[0m\u001b[1;33m=\u001b[0m\u001b[1;33m[\u001b[0m\u001b[1;34m'F1'\u001b[0m\u001b[1;33m,\u001b[0m\u001b[1;34m'EAE'\u001b[0m\u001b[1;33m,\u001b[0m\u001b[1;34m'MNEAP'\u001b[0m\u001b[1;33m,\u001b[0m\u001b[1;34m'RMSE'\u001b[0m\u001b[1;33m]\u001b[0m\u001b[1;33m\u001b[0m\u001b[1;33m\u001b[0m\u001b[0m\n\u001b[0;32m      2\u001b[0m \u001b[1;33m\u001b[0m\u001b[0m\n\u001b[1;32m----> 3\u001b[1;33m maxs=pd.concat([m_mean['F1'].transpose().max(),\n\u001b[0m\u001b[0;32m      4\u001b[0m                 \u001b[0mm_mean\u001b[0m\u001b[1;33m[\u001b[0m\u001b[1;34m'EAE'\u001b[0m\u001b[1;33m]\u001b[0m\u001b[1;33m.\u001b[0m\u001b[0mtranspose\u001b[0m\u001b[1;33m(\u001b[0m\u001b[1;33m)\u001b[0m\u001b[1;33m.\u001b[0m\u001b[0mmin\u001b[0m\u001b[1;33m(\u001b[0m\u001b[1;33m)\u001b[0m\u001b[1;33m,\u001b[0m\u001b[1;33m\u001b[0m\u001b[1;33m\u001b[0m\u001b[0m\n\u001b[0;32m      5\u001b[0m                 \u001b[0mm_mean\u001b[0m\u001b[1;33m[\u001b[0m\u001b[1;34m'MNEAP'\u001b[0m\u001b[1;33m]\u001b[0m\u001b[1;33m.\u001b[0m\u001b[0mtranspose\u001b[0m\u001b[1;33m(\u001b[0m\u001b[1;33m)\u001b[0m\u001b[1;33m.\u001b[0m\u001b[0mmin\u001b[0m\u001b[1;33m(\u001b[0m\u001b[1;33m)\u001b[0m\u001b[1;33m,\u001b[0m\u001b[1;33m\u001b[0m\u001b[1;33m\u001b[0m\u001b[0m\n",
      "\u001b[1;31mKeyError\u001b[0m: 'F1'"
     ]
    }
   ],
   "source": [
    "cols=['F1','EAE','MNEAP','RMSE']\n",
    "\n",
    "maxs=pd.concat([m_mean['F1'].transpose().max(),\n",
    "                m_mean['EAE'].transpose().min(),\n",
    "                m_mean['MNEAP'].transpose().min(),\n",
    "                m_mean['RMSE'].transpose().min()], axis=1)\n",
    "maxs.columns=cols\n",
    "maxs = maxs.transpose()\n",
    "round(maxs,2)"
   ]
  },
  {
   "cell_type": "markdown",
   "metadata": {},
   "source": [
    "## Correspondencia de Indice"
   ]
  },
  {
   "cell_type": "code",
   "execution_count": null,
   "metadata": {},
   "outputs": [
    {
     "ename": "KeyError",
     "evalue": "'F1'",
     "output_type": "error",
     "traceback": [
      "\u001b[1;31m---------------------------------------------------------------------------\u001b[0m",
      "\u001b[1;31mKeyError\u001b[0m                                  Traceback (most recent call last)",
      "\u001b[1;32m<ipython-input-31-ab20c1694d02>\u001b[0m in \u001b[0;36m<module>\u001b[1;34m()\u001b[0m\n\u001b[0;32m      1\u001b[0m \u001b[0mcols\u001b[0m\u001b[1;33m=\u001b[0m\u001b[1;33m[\u001b[0m\u001b[1;34m'F1'\u001b[0m\u001b[1;33m,\u001b[0m\u001b[1;34m'EAE'\u001b[0m\u001b[1;33m,\u001b[0m\u001b[1;34m'MNEAP'\u001b[0m\u001b[1;33m,\u001b[0m\u001b[1;34m'RMSE'\u001b[0m\u001b[1;33m]\u001b[0m\u001b[1;33m\u001b[0m\u001b[1;33m\u001b[0m\u001b[0m\n\u001b[0;32m      2\u001b[0m \u001b[1;33m\u001b[0m\u001b[0m\n\u001b[1;32m----> 3\u001b[1;33m maxs_i=pd.concat([m_mean['F1'].transpose().idxmax(),\n\u001b[0m\u001b[0;32m      4\u001b[0m                  \u001b[0mm_mean\u001b[0m\u001b[1;33m[\u001b[0m\u001b[1;34m'EAE'\u001b[0m\u001b[1;33m]\u001b[0m\u001b[1;33m.\u001b[0m\u001b[0mtranspose\u001b[0m\u001b[1;33m(\u001b[0m\u001b[1;33m)\u001b[0m\u001b[1;33m.\u001b[0m\u001b[0midxmin\u001b[0m\u001b[1;33m(\u001b[0m\u001b[1;33m)\u001b[0m\u001b[1;33m,\u001b[0m\u001b[1;33m\u001b[0m\u001b[1;33m\u001b[0m\u001b[0m\n\u001b[0;32m      5\u001b[0m                  \u001b[0mm_mean\u001b[0m\u001b[1;33m[\u001b[0m\u001b[1;34m'MNEAP'\u001b[0m\u001b[1;33m]\u001b[0m\u001b[1;33m.\u001b[0m\u001b[0mtranspose\u001b[0m\u001b[1;33m(\u001b[0m\u001b[1;33m)\u001b[0m\u001b[1;33m.\u001b[0m\u001b[0midxmin\u001b[0m\u001b[1;33m(\u001b[0m\u001b[1;33m)\u001b[0m\u001b[1;33m,\u001b[0m\u001b[1;33m\u001b[0m\u001b[1;33m\u001b[0m\u001b[0m\n",
      "\u001b[1;31mKeyError\u001b[0m: 'F1'"
     ]
    }
   ],
   "source": [
    "cols=['F1','EAE','MNEAP','RMSE']\n",
    "\n",
    "maxs_i=pd.concat([m_mean['F1'].transpose().idxmax(),\n",
    "                 m_mean['EAE'].transpose().idxmin(),\n",
    "                 m_mean['MNEAP'].transpose().idxmin(),\n",
    "                 m_mean['RMSE'].transpose().idxmin()], axis=1)\n",
    "maxs_i.columns=cols\n",
    "maxs_i = maxs_i.transpose()\n",
    "maxs_i"
   ]
  },
  {
   "cell_type": "code",
   "execution_count": null,
   "metadata": {},
   "outputs": [
    {
     "ename": "KeyError",
     "evalue": "'F1'",
     "output_type": "error",
     "traceback": [
      "\u001b[1;31m---------------------------------------------------------------------------\u001b[0m",
      "\u001b[1;31mKeyError\u001b[0m                                  Traceback (most recent call last)",
      "\u001b[1;32m<ipython-input-32-4d53e4de177b>\u001b[0m in \u001b[0;36m<module>\u001b[1;34m()\u001b[0m\n\u001b[0;32m      9\u001b[0m \u001b[0mc\u001b[0m\u001b[1;33m=\u001b[0m\u001b[1;36m0\u001b[0m\u001b[1;33m\u001b[0m\u001b[1;33m\u001b[0m\u001b[0m\n\u001b[0;32m     10\u001b[0m \u001b[1;32mfor\u001b[0m \u001b[0max\u001b[0m \u001b[1;32min\u001b[0m \u001b[0mfig\u001b[0m\u001b[1;33m.\u001b[0m\u001b[0mget_axes\u001b[0m\u001b[1;33m(\u001b[0m\u001b[1;33m)\u001b[0m\u001b[1;33m:\u001b[0m\u001b[1;33m\u001b[0m\u001b[1;33m\u001b[0m\u001b[0m\n\u001b[1;32m---> 11\u001b[1;33m     \u001b[0mm_mean\u001b[0m\u001b[1;33m[\u001b[0m\u001b[0mcols\u001b[0m\u001b[1;33m[\u001b[0m\u001b[0mc\u001b[0m\u001b[1;33m]\u001b[0m\u001b[1;33m]\u001b[0m\u001b[1;33m.\u001b[0m\u001b[0mplot\u001b[0m\u001b[1;33m.\u001b[0m\u001b[0mbar\u001b[0m\u001b[1;33m(\u001b[0m\u001b[0max\u001b[0m\u001b[1;33m=\u001b[0m\u001b[0max\u001b[0m\u001b[1;33m,\u001b[0m \u001b[0mwidth\u001b[0m\u001b[1;33m=\u001b[0m\u001b[1;36m0.7\u001b[0m\u001b[1;33m,\u001b[0m \u001b[0medgecolor\u001b[0m\u001b[1;33m=\u001b[0m\u001b[1;34m'black'\u001b[0m\u001b[1;33m,\u001b[0m \u001b[0mlinewidth\u001b[0m\u001b[1;33m=\u001b[0m\u001b[1;36m0.5\u001b[0m\u001b[1;33m,\u001b[0m \u001b[0mlegend\u001b[0m\u001b[1;33m=\u001b[0m\u001b[1;32mFalse\u001b[0m\u001b[1;33m,\u001b[0m \u001b[0mcmap\u001b[0m\u001b[1;33m=\u001b[0m\u001b[1;34m\"jet\"\u001b[0m\u001b[1;33m)\u001b[0m\u001b[1;33m\u001b[0m\u001b[1;33m\u001b[0m\u001b[0m\n\u001b[0m\u001b[0;32m     12\u001b[0m     \u001b[0max\u001b[0m\u001b[1;33m.\u001b[0m\u001b[0mset\u001b[0m\u001b[1;33m(\u001b[0m\u001b[0mylabel\u001b[0m\u001b[1;33m=\u001b[0m\u001b[0mylabels\u001b[0m\u001b[1;33m[\u001b[0m\u001b[0mc\u001b[0m\u001b[1;33m]\u001b[0m\u001b[1;33m)\u001b[0m\u001b[1;33m\u001b[0m\u001b[1;33m\u001b[0m\u001b[0m\n\u001b[0;32m     13\u001b[0m     \u001b[0max\u001b[0m\u001b[1;33m.\u001b[0m\u001b[0mgrid\u001b[0m\u001b[1;33m(\u001b[0m\u001b[0mb\u001b[0m\u001b[1;33m=\u001b[0m\u001b[1;32mNone\u001b[0m\u001b[1;33m)\u001b[0m\u001b[1;33m\u001b[0m\u001b[1;33m\u001b[0m\u001b[0m\n",
      "\u001b[1;31mKeyError\u001b[0m: 'F1'"
     ]
    },
    {
     "data": {
      "image/png": "[encoded data removed]",
      "text/plain": [
       "<Figure size 720x828 with 4 Axes>"
      ]
     },
     "metadata": {
      "needs_background": "light"
     },
     "output_type": "display_data"
    }
   ],
   "source": [
    "rcParams['figure.figsize'] = (10, 11.5)\n",
    "fig, (ax2,ax3,ax4,ax5) = plt.subplots(4, 1, sharex=True, gridspec_kw={'hspace': 0.35})\n",
    "cols=['F1','EAE','MNEAP','RMSE']\n",
    "ylabels=['[%]','[%]','[kWh]','[-]','[W]']\n",
    "per=['10s','30s','60s','5min','10min']\n",
    "\n",
    "labels={'CO-first':-0.35, 'CO-mean':-0.22, 'CO-median':-0.11, 'FHMM-first':0.01, 'FHMM-mean':0.13 ,'FHMM-median':0.245}\n",
    "\n",
    "c=0\n",
    "for ax in fig.get_axes():      \n",
    "    m_mean[cols[c]].plot.bar(ax=ax, width=0.7, edgecolor='black', linewidth=0.5, legend=False, cmap=\"jet\")\n",
    "    ax.set(ylabel=ylabels[c])\n",
    "    ax.grid(b=None)\n",
    "    x = 0\n",
    "    for p in per:\n",
    "        ax.annotate(\"▼\", xy=(labels[maxs_i[p][cols[c]]]+x, maxs[p][cols[c]]+maxs[p][cols[c]]*0.03))\n",
    "        x+=1\n",
    "    c+=1\n",
    "    \n",
    "ax5.set_xticklabels(labels=per, rotation=0, fontdict={'fontsize':12})\n",
    "fig.align_ylabels([(ax2,ax3,ax4,ax5)])\n",
    "ax2.set(ylim=(0,120))\n",
    "ax2.set_yticks([0,25,50,75,100])\n",
    "\n",
    "ax5.set_yticks([0,50,100,150,200])\n",
    "\n",
    "ax2.set_title('F1-Score', fontsize=11, loc='center')\n",
    "ax3.set_title('Error in Assigned Energy - EAE', fontsize=11, loc='center')\n",
    "ax4.set_title('Mean Normalised Error in Assigned Power - MNEAP', fontsize=11, loc='center')\n",
    "ax5.set_title('RMS Error in Assigned Power - RMSE', fontsize=11, loc='center')\n",
    "lgd = ax5.legend(labels.keys(), loc='lower center', ncol=6, bbox_to_anchor=(0.5, -0.6),fontsize=9.5)\n",
    "\n",
    "\n",
    "#ax2.annotate(\"90.5%\", xy=(0.68, 98)); #30s FHMM-mean\n",
    "#ax3.annotate(\"0.19\", xy=(6.22, 1.4)); #30min FHMM-median\n",
    "ax3.annotate(\"kWh\", xy=(6.22, 0.9)); #30min FHMM-median\n",
    "#ax4.annotate(\"0.24\", xy=(6.22, 0.7)); #30min FHMM-median\n",
    "#ax5.annotate(\"41.5\", xy=(6.22, 120)); #30min FHMM-median\n",
    "ax5.annotate(\"   W\", xy=(6.22, 90)); #30min FHMM-median\n",
    "\n",
    "\n",
    "plt.savefig('./data/images/5.7_All_metrics.svg', bbox_inches='tight', transparent=True)\n",
    "\n",
    "pass"
   ]
  },
  {
   "cell_type": "code",
   "execution_count": null,
   "metadata": {},
   "outputs": [],
   "source": [
    "rcParams['figure.figsize'] = (10, 8)\n",
    "\n",
    "fig, (ax2,ax3,ax4,ax5) = plt.subplots(4, 1, sharex=False, gridspec_kw={'hspace': 0.35})\n",
    "\n",
    "#cols=['FEAC','F1','EAE','MNEAP','RMSE']\n",
    "cols=['F1','EAE','MNEAP','RMSE']\n",
    "\n",
    "ylabels=['[%]','[%]','[kWh]','[-]','[W]']\n",
    "labels=['FHMM-first', 'FHMM-mean' ,'FHMM-median']\n",
    "c=0\n",
    "\n",
    "for ax in fig.get_axes():\n",
    "    \n",
    "    df=pd.DataFrame([m['30s'][1][cols[c]],m['30s'][3][cols[c]],m['30s'][5][cols[c]]]).transpose()\n",
    "    #if ax==ax1:\n",
    "    #    df['FEAC'].mean().plot.barh(ax=ax1, width=0.7, edgecolor='black', linewidth=0.5, legend=False,   color=['greenyellow','darkorange','maroon'])\n",
    "    #else:\n",
    "    #     df.plot.bar(ax=ax, width=0.7, edgecolor='black', linewidth=0.5, legend=False,   color=['greenyellow','darkorange','maroon'])\n",
    " \n",
    "    df.plot.bar(ax=ax, width=0.7, edgecolor='black', linewidth=0.5, legend=False,   color=['greenyellow','darkorange','maroon'])\n",
    "    ax.set(ylabel=ylabels[c])\n",
    "    ax.grid(b=None)\n",
    "    c+=1   \n",
    "    \n",
    "\n",
    "ax2.set_xticklabels('')\n",
    "ax3.set_xticklabels('')\n",
    "ax4.set_xticklabels('')\n",
    "ax5.set_xticklabels(ax5.get_xticklabels(), rotation=0, fontdict={'fontsize':12})\n",
    "fig.align_ylabels([(ax1,ax2,ax3,ax4,ax5)])\n",
    "ax3.set_yticks([0,1,2,3,4])\n",
    "ax4.set(ylim=(0,1.8))\n",
    "ax4.set_yticks([0,0.5,1,1.5,2])\n",
    "ax5.set(ylim=(0,270))\n",
    "ax5.set_yticks([0,100,200,300])\n",
    "ax2.set_title('F1-Score', fontsize=11, loc='center')\n",
    "ax3.set_title('Error in Assigned Energy - EAE', fontsize=11, loc='center')\n",
    "ax4.set_title('Mean Normalised Error in Assigned Power - MNEAP', fontsize=11, loc='center')\n",
    "ax5.set_title('RMS Error in Assigned Power - RMSE', fontsize=11, loc='center')\n",
    "lgd = ax5.legend(labels, loc='lower center', ncol=3, bbox_to_anchor=(0.5, -0.8))\n",
    "\n",
    "\n",
    "plt.savefig('./data/images/5.8_All_metrics_2.svg', bbox_inches='tight', transparent=True)\n",
    "\n",
    "pass"
   ]
  },
  {
   "cell_type": "code",
   "execution_count": null,
   "metadata": {},
   "outputs": [
    {
     "name": "stdout",
     "output_type": "stream",
     "text": [
      "FHMM-first\n"
     ]
    },
    {
     "ename": "KeyError",
     "evalue": "'30s'",
     "output_type": "error",
     "traceback": [
      "\u001b[1;31m---------------------------------------------------------------------------\u001b[0m",
      "\u001b[1;31mKeyError\u001b[0m                                  Traceback (most recent call last)",
      "\u001b[1;32m<ipython-input-33-78a7e36059de>\u001b[0m in \u001b[0;36m<module>\u001b[1;34m()\u001b[0m\n\u001b[0;32m      1\u001b[0m \u001b[0mprint\u001b[0m\u001b[1;33m(\u001b[0m\u001b[1;34m'FHMM-first'\u001b[0m\u001b[1;33m)\u001b[0m\u001b[1;33m\u001b[0m\u001b[1;33m\u001b[0m\u001b[0m\n\u001b[1;32m----> 2\u001b[1;33m \u001b[0mprint\u001b[0m\u001b[1;33m(\u001b[0m\u001b[0mm\u001b[0m\u001b[1;33m[\u001b[0m\u001b[1;34m'30s'\u001b[0m\u001b[1;33m]\u001b[0m\u001b[1;33m[\u001b[0m\u001b[1;36m1\u001b[0m\u001b[1;33m]\u001b[0m\u001b[1;33m)\u001b[0m\u001b[1;33m\u001b[0m\u001b[1;33m\u001b[0m\u001b[0m\n\u001b[0m\u001b[0;32m      3\u001b[0m \u001b[0mprint\u001b[0m\u001b[1;33m(\u001b[0m\u001b[1;34m'\\nFHMM-mean'\u001b[0m\u001b[1;33m)\u001b[0m\u001b[1;33m\u001b[0m\u001b[1;33m\u001b[0m\u001b[0m\n\u001b[0;32m      4\u001b[0m \u001b[0mprint\u001b[0m\u001b[1;33m(\u001b[0m\u001b[0mm\u001b[0m\u001b[1;33m[\u001b[0m\u001b[1;34m'30s'\u001b[0m\u001b[1;33m]\u001b[0m\u001b[1;33m[\u001b[0m\u001b[1;36m3\u001b[0m\u001b[1;33m]\u001b[0m\u001b[1;33m)\u001b[0m\u001b[1;33m\u001b[0m\u001b[1;33m\u001b[0m\u001b[0m\n\u001b[0;32m      5\u001b[0m \u001b[0mprint\u001b[0m\u001b[1;33m(\u001b[0m\u001b[1;34m'\\nFHMM-median'\u001b[0m\u001b[1;33m)\u001b[0m\u001b[1;33m\u001b[0m\u001b[1;33m\u001b[0m\u001b[0m\n",
      "\u001b[1;31mKeyError\u001b[0m: '30s'"
     ]
    }
   ],
   "source": [
    "print('FHMM-first')\n",
    "print(m['30s'][1])\n",
    "print('\\nFHMM-mean')\n",
    "print(m['30s'][3])\n",
    "print('\\nFHMM-median')\n",
    "print(m['30s'][5])"
   ]
  },
  {
   "cell_type": "markdown",
   "metadata": {},
   "source": [
    "### Resultados del mejor modelo\n",
    "En vista de los resultados del obtenidos, se propone la elección del modelo FHMM entrenado con datos promedio de dispositivos cada 30 segundos. Este modelo solo se considera adecuado para la desagregación de datos promedio de potencia activa medidos en cabecera cada 30 segundos."
   ]
  },
  {
   "cell_type": "code",
   "execution_count": null,
   "metadata": {},
   "outputs": [
    {
     "ename": "KeyError",
     "evalue": "'30s'",
     "output_type": "error",
     "traceback": [
      "\u001b[1;31m---------------------------------------------------------------------------\u001b[0m",
      "\u001b[1;31mKeyError\u001b[0m                                  Traceback (most recent call last)",
      "\u001b[1;32m<ipython-input-34-9934f32177b4>\u001b[0m in \u001b[0;36m<module>\u001b[1;34m()\u001b[0m\n\u001b[0;32m     11\u001b[0m \u001b[1;33m\u001b[0m\u001b[0m\n\u001b[0;32m     12\u001b[0m \u001b[1;32mfor\u001b[0m \u001b[0max\u001b[0m \u001b[1;32min\u001b[0m \u001b[0mfig\u001b[0m\u001b[1;33m.\u001b[0m\u001b[0mget_axes\u001b[0m\u001b[1;33m(\u001b[0m\u001b[1;33m)\u001b[0m\u001b[1;33m:\u001b[0m\u001b[1;33m\u001b[0m\u001b[1;33m\u001b[0m\u001b[0m\n\u001b[1;32m---> 13\u001b[1;33m     \u001b[0mdf\u001b[0m\u001b[1;33m=\u001b[0m\u001b[0mpd\u001b[0m\u001b[1;33m.\u001b[0m\u001b[0mDataFrame\u001b[0m\u001b[1;33m(\u001b[0m\u001b[0mm\u001b[0m\u001b[1;33m[\u001b[0m\u001b[1;34m'30s'\u001b[0m\u001b[1;33m]\u001b[0m\u001b[1;33m[\u001b[0m\u001b[1;36m4\u001b[0m\u001b[1;33m]\u001b[0m\u001b[1;33m[\u001b[0m\u001b[0mcols\u001b[0m\u001b[1;33m[\u001b[0m\u001b[0mc\u001b[0m\u001b[1;33m]\u001b[0m\u001b[1;33m]\u001b[0m\u001b[1;33m)\u001b[0m\u001b[1;33m\u001b[0m\u001b[1;33m\u001b[0m\u001b[0m\n\u001b[0m\u001b[0;32m     14\u001b[0m     \u001b[0mdf\u001b[0m\u001b[1;33m[\u001b[0m\u001b[0mcols\u001b[0m\u001b[1;33m[\u001b[0m\u001b[0mc\u001b[0m\u001b[1;33m]\u001b[0m\u001b[1;33m]\u001b[0m\u001b[1;33m.\u001b[0m\u001b[0mplot\u001b[0m\u001b[1;33m.\u001b[0m\u001b[0mbar\u001b[0m\u001b[1;33m(\u001b[0m\u001b[0max\u001b[0m\u001b[1;33m=\u001b[0m\u001b[0max\u001b[0m\u001b[1;33m,\u001b[0m \u001b[0mwidth\u001b[0m\u001b[1;33m=\u001b[0m\u001b[1;36m0.7\u001b[0m\u001b[1;33m,\u001b[0m \u001b[0medgecolor\u001b[0m\u001b[1;33m=\u001b[0m\u001b[1;34m'black'\u001b[0m\u001b[1;33m,\u001b[0m \u001b[0mlinewidth\u001b[0m\u001b[1;33m=\u001b[0m\u001b[1;36m0.5\u001b[0m\u001b[1;33m,\u001b[0m \u001b[0mlegend\u001b[0m\u001b[1;33m=\u001b[0m\u001b[1;32mFalse\u001b[0m\u001b[1;33m,\u001b[0m \u001b[0mcolor\u001b[0m\u001b[1;33m=\u001b[0m\u001b[0mcolors\u001b[0m\u001b[1;33m)\u001b[0m\u001b[1;33m\u001b[0m\u001b[1;33m\u001b[0m\u001b[0m\n\u001b[0;32m     15\u001b[0m     \u001b[0max\u001b[0m\u001b[1;33m.\u001b[0m\u001b[0mset\u001b[0m\u001b[1;33m(\u001b[0m\u001b[0mylabel\u001b[0m\u001b[1;33m=\u001b[0m\u001b[0mylabels\u001b[0m\u001b[1;33m[\u001b[0m\u001b[0mc\u001b[0m\u001b[1;33m]\u001b[0m\u001b[1;33m)\u001b[0m\u001b[1;33m\u001b[0m\u001b[1;33m\u001b[0m\u001b[0m\n",
      "\u001b[1;31mKeyError\u001b[0m: '30s'"
     ]
    },
    {
     "data": {
      "image/png": "[encoded data removed]",
      "text/plain": [
       "<Figure size 720x576 with 4 Axes>"
      ]
     },
     "metadata": {
      "needs_background": "light"
     },
     "output_type": "display_data"
    }
   ],
   "source": [
    "rcParams['figure.figsize'] = (10, 8)\n",
    "\n",
    "fig, (ax2,ax3,ax4,ax5) = plt.subplots(4, 1, sharex=False, gridspec_kw={'hspace': 0.35})\n",
    "#cols=['FEAC','F1','EAE','MNEAP','RMSE']\n",
    "\n",
    "cols=['F1','EAE','MNEAP','RMSE']\n",
    "\n",
    "ylabels=['[%]','[%]','[kWh]','[-]','[W]']\n",
    "colors=['tab:red','tab:blue','tab:orange','tab:green','tab:olive','tab:purple','tab:cyan']\n",
    "c=0\n",
    "\n",
    "for ax in fig.get_axes():\n",
    "    df=pd.DataFrame(m['30s'][4][cols[c]])\n",
    "    df[cols[c]].plot.bar(ax=ax, width=0.7, edgecolor='black', linewidth=0.5, legend=False, color=colors)\n",
    "    ax.set(ylabel=ylabels[c])\n",
    "    ax.grid(b=None)\n",
    "    c+=1\n",
    "\n",
    "\n",
    "ax2.set_xticklabels('')\n",
    "ax3.set_xticklabels('')\n",
    "ax4.set_xticklabels('')\n",
    "ax5.set_xticklabels(ax5.get_xticklabels(), rotation=0, fontdict={'fontsize':12})\n",
    "\n",
    "fig.align_ylabels([(ax2,ax3,ax4,ax5)])\n",
    "\n",
    "ax2.set(ylim=(0,125))\n",
    "ax3.set(ylim=(0,1))\n",
    "ax4.set(ylim=(0,0.7))\n",
    "ax5.set(ylim=(0,110))\n",
    "\n",
    "ax2.set_yticks([0,25,50,75,100])\n",
    "ax3.set_yticks([0,1,2,3])\n",
    "ax4.set_yticks([0,1,2,3,4])\n",
    "ax5.set_yticks([0,50,100,150,200])\n",
    "\n",
    "\n",
    "ax2.set_title('F1-Score', fontsize=11, loc='center')\n",
    "ax3.set_title('Error in Assigned Energy - EAE', fontsize=11, loc='center')\n",
    "ax4.set_title('Mean Normalised Error in Assigned Power - MNEAP', fontsize=11, loc='center')\n",
    "ax5.set_title('RMS Error in Assigned Power - RMSE', fontsize=11, loc='center')\n",
    "\n",
    "df=pd.DataFrame(m['30s'][5])\n",
    "\n",
    "for x in range(5):ax2.annotate(str(round(df['F1'][x],1))+'%', xy=(x-0.18 , df['F1'][x]+4),fontsize=9.5)\n",
    "for x in range(5):ax3.annotate(str(round(df['EAE'][x],1))+' kWh', xy=(x-0.25 , df['EAE'][x]+0.1),fontsize=9.5)\n",
    "for x in range(5):ax4.annotate(str(round(df['MNEAP'][x],1)), xy=(x-0.08 , df['MNEAP'][x]+0.03),fontsize=9.5)\n",
    "for x in range(5):ax5.annotate(str(round(df['RMSE'][x]))+' W', xy=(x-0.18 , df['RMSE'][x]+5),fontsize=9.5)\n",
    "\n",
    "plt.savefig('./data/images/5.9_Metrics_FHMM_30min_median.svg', bbox_inches='tight', transparent=True)"
   ]
  },
  {
   "cell_type": "code",
   "execution_count": null,
   "metadata": {},
   "outputs": [],
   "source": [
    "valid_Devices.total_energy()"
   ]
  },
  {
   "cell_type": "code",
   "execution_count": null,
   "metadata": {},
   "outputs": [],
   "source": [
    "valid_Devices.energy_per_meter()"
   ]
  },
  {
   "cell_type": "markdown",
   "metadata": {},
   "source": [
    "### Replicando el entrenamiento del modelo"
   ]
  },
  {
   "cell_type": "code",
   "execution_count": null,
   "metadata": {},
   "outputs": [],
   "source": [
    "from nilmtk import DataSet\n",
    "from nilmtk.legacy.disaggregate import FHMM\n",
    "\n",
    "\n",
    "train = DataSet('dsual.h5')\n",
    "\n",
    "train.set_window(start=\"2022-11-23 09:42:00\", end=\"2022-11-23 10:42:00\")\n",
    "train_elec=train.buildings[1].elec \n",
    "\n",
    "#dispositivos a entrenar: [Lights_1, Lights_2, HVAC_1, HVAC_2, HVAC_4, Rack]\n",
    "train_Devices=train_elec.select(instance=[2,3,4,5,6,7,8,9,10,11])\n",
    "\n",
    "#opcional: asignación manual de estados de dispositivos\n",
    "#num_states={train_Devices[2]:2, train_Devices[3]:3, train_Devices[4]:4,\n",
    "#            train_Devices[5]:5, train_Devices[6]:6}\n",
    "\n",
    "#entrenamiento y exportación del modelo\n",
    "FHMM_30s_median=FHMM()\n",
    "FHMM_30s_median.MIN_CHUNK_LENGTH=1\n",
    "FHMM_30s_median.train(train_Devices,\n",
    "                        num_states_dict={}, #en otro caso: { }\n",
    "                        ac_type='active',\n",
    "                        sample_period=1800,\n",
    "                        resample_kwargs={'how':'median'})\n",
    "\n",
    "\n",
    "#falla aqui al exportar el modelo\n",
    "#FHMM_30min_median.export_model('./data/FHMM_30s_median_model.pickle') \n",
    "#output=HDFDataStore(data_dir+'NILM/Results/'+model_name+'_'+sp_name+'_'+method+'_pred.h5', 'w')\n",
    "\n",
    "\n",
    "print('\\n\\nDone!')\n"
   ]
  },
  {
   "cell_type": "code",
   "execution_count": null,
   "metadata": {},
   "outputs": [],
   "source": [
    "from nilmtk.legacy.disaggregate import FHMM\n",
    "FHMM=FHMM()\n",
    "#FHMM.import_model('C:/data/FHMM_30s_median_model.pickle') \n",
    "print('Oven: '+str(FHMM_30s_median.individual[valid_Devices[2]].means_))\n",
    "print('Microwave: '+str(FHMM_30s_median.individual[valid_Devices[3]].means_))\n",
    "print('Television: '+str(FHMM_30s_median.individual[valid_Devices[4]].means_))\n",
    "print('Kettle: '+str(FHMM_30s_median.individual[valid_Devices[5]].means_))\n",
    "print('Vacuum Cleaner: '+str(FHMM_30s_median.individual[valid_Devices[6]].means_))\n",
    "\n",
    "print('electric space heater: '+str(FHMM_30s_median.individual[valid_Devices[7]].means_))\n",
    "print('electric shower heater: '+str(FHMM_30s_median.individual[valid_Devices[8]].means_))\n",
    "print('Fan: '+str(FHMM_30s_median.individual[valid_Devices[9]].means_))\n",
    "print('Fridge: '+str(FHMM_30s_median.individual[valid_Devices[10]].means_))\n",
    "print('Freezer: '+str(FHMM_30s_median.individual[valid_Devices[11]].means_))"
   ]
  },
  {
   "cell_type": "code",
   "execution_count": null,
   "metadata": {},
   "outputs": [
    {
     "ename": "NameError",
     "evalue": "name 'FHMM_30s_median' is not defined",
     "output_type": "error",
     "traceback": [
      "\u001b[1;31m---------------------------------------------------------------------------\u001b[0m",
      "\u001b[1;31mNameError\u001b[0m                                 Traceback (most recent call last)",
      "\u001b[1;32m<ipython-input-35-2b8cb095347e>\u001b[0m in \u001b[0;36m<module>\u001b[1;34m()\u001b[0m\n\u001b[1;32m----> 1\u001b[1;33m \u001b[0mFHMM_30s_median\u001b[0m\u001b[1;33m.\u001b[0m\u001b[0mmodel\u001b[0m\u001b[1;33m\u001b[0m\u001b[1;33m\u001b[0m\u001b[0m\n\u001b[0m",
      "\u001b[1;31mNameError\u001b[0m: name 'FHMM_30s_median' is not defined"
     ]
    }
   ],
   "source": [
    "FHMM_30s_median.model"
   ]
  },
  {
   "cell_type": "code",
   "execution_count": null,
   "metadata": {},
   "outputs": [
    {
     "ename": "NameError",
     "evalue": "name 'FHMM_30s_median' is not defined",
     "output_type": "error",
     "traceback": [
      "\u001b[1;31m---------------------------------------------------------------------------\u001b[0m",
      "\u001b[1;31mNameError\u001b[0m                                 Traceback (most recent call last)",
      "\u001b[1;32m<ipython-input-36-b7a0302ed482>\u001b[0m in \u001b[0;36m<module>\u001b[1;34m()\u001b[0m\n\u001b[1;32m----> 1\u001b[1;33m \u001b[0mFHMM_30s_median\u001b[0m\u001b[1;33m.\u001b[0m\u001b[0mindividual\u001b[0m\u001b[1;33m\u001b[0m\u001b[1;33m\u001b[0m\u001b[0m\n\u001b[0m",
      "\u001b[1;31mNameError\u001b[0m: name 'FHMM_30s_median' is not defined"
     ]
    }
   ],
   "source": [
    "FHMM_30s_median.individual"
   ]
  },
  {
   "cell_type": "code",
   "execution_count": null,
   "metadata": {},
   "outputs": [],
   "source": []
  },
  {
   "cell_type": "code",
   "execution_count": null,
   "metadata": {},
   "outputs": [],
   "source": []
  }
 ],
 "metadata": {
  "kernelspec": {
   "display_name": "nilmtk-env",
   "language": "python",
   "name": "python3"
  },
  "language_info": {
   "codemirror_mode": {
    "name": "ipython",
    "version": 3
   },
   "file_extension": ".py",
   "mimetype": "text/x-python",
   "name": "python",
   "nbconvert_exporter": "python",
   "pygments_lexer": "ipython3",
   "version": "3.6.13"
  },
  "vscode": {
   "interpreter": {
    "hash": "29bb9dddb158bfcab04eacf543d5481f86ac9fee36718a27f60b6b511e34b59d"
   }
  }
 },
 "nbformat": 4,
 "nbformat_minor": 4
}
